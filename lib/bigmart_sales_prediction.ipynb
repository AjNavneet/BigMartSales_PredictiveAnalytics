{
  "cells": [
    {
      "cell_type": "markdown",
      "metadata": {
        "id": "4SSKuBPb6x7Q"
      },
      "source": [
        "# BigMart Sales Prediction"
      ]
    },
    {
      "cell_type": "markdown",
      "metadata": {
        "id": "1fv4P_Vz7AKI"
      },
      "source": [
        "## Project Overview\n",
        "\n",
        "\n",
        "\n",
        "- Sales forecasting enables businesses to allocate resources for future growth while managing cash flow properly. Sales forecasting also assists firms in precisely estimating their expenditures and revenue, allowing them to predict their short- and long-term success. \n",
        "\n",
        "- Retail Sales Forecasting also assists retailers in meeting customer expectations by better understanding consumer purchasing trends. This results in more efficient use of shelf and display space within the retail establishment and optimal use of inventory space.\n",
        "The Bigmart sales forecast project can help you comprehend project creation in a professional atmosphere. This project entails extracting and processing data in the Amazon Redshift database before further processing and building various machine-learning models for sales prediction. \n",
        "\n",
        "- We will study several data processing techniques, exploratory data analysis, and categorical correlation with Chi-squared, Cramer’s v tests, and ANOVA. In addition to basic statistical models like Linear Regression, we will learn how to design cutting-edge machine-learning models like Gradient Boosting and Generalized Additive Models. We will investigate splines and multivariate adaptive regression splines (MARS), as well as ensemble techniques like model stacking and model blending, and evaluate these models for the best results.\n",
        "\n",
        "### Objective \n",
        "- This project aims to build and evaluate different predictive models and determine the sales of each product at a particular store. This analysis will help BigMart understand the properties of products and stores, which are crucial in increasing sales and developing better business strategies.\n",
        "\n",
        "---\n",
        "\n",
        "\n",
        "\n"
      ]
    },
    {
      "cell_type": "markdown",
      "metadata": {
        "id": "uKoCyhPvUep-"
      },
      "source": [
        "## Outcomes\n",
        "\n",
        "* Understanding the sales prediction problem statement\n",
        "* Performing data exploration with Amazon Redshift \n",
        "* Understanding SQL queries for data preprocessing\n",
        "* Data Cleaning and Imputation with SQL\n",
        "* Exploratory Data Analysis on Categorical and Continuous Data\n",
        "* Understand Correlation Analysis\n",
        "* Categorical Correlation with Chi-squared and Cramer’s V Tests\n",
        "* Correlation between Categorical and Target Variables with ANOVA\n",
        "* Label Encoding for Categorical Variables\n",
        "* Linear Regression Implementation\n",
        "* Elastic Net Implementation\n",
        "* Random Forest Implementation\n",
        "* Extra Trees Implementation\n",
        "* Gradient Boosting Implementation\n",
        "* Multi-Layer Perceptron Implementation\n",
        "* Splines and Multivariate Adaptive Regression Splines (MARS) Implementation\n",
        "* Implement Generalized Additive Models - LinearGAM, PoissonGAM, GammaGAM\n",
        "* Understand and Implement Voting Regressor\n",
        "* Understand Stacking and Blending Models\n",
        "* Implement Stacking Regressor\n",
        "* Implement Model Blending from Scratch\n",
        "* Evaluate Models with Regression Metric - R-squared\n"
      ]
    },
    {
      "cell_type": "markdown",
      "metadata": {
        "id": "JqpD9YcrVjar"
      },
      "source": [
        "## **Approach**\n",
        "\n",
        "* Data Exploration with Amazon Redshift\n",
        "* Data Cleaning and Imputation\n",
        "* Exploratory Data Analysis\n",
        "  * Categorical Data\n",
        "  * Continuous Data\n",
        "  * Correlation\n",
        "    * Pearson’s Correlation\n",
        "    * Chi-squared Test and Contingency Tables\n",
        "    * Cramer’s V Test\n",
        "    * One way ANOVA\n",
        "* Feature Engineering\n",
        "  * Outlet Age\n",
        "  * Label Encoding for Categorical Variables\n",
        "* Data Split\n",
        "* Model Building and Evaluation\n",
        "  * Linear Regressor\n",
        "  * Elastic Net Regressor\n",
        "  * Random Forest Regressor\n",
        "  * Extra Trees Regressor\n",
        "  * Gradient Boosting Regressor\n",
        "  * MLP Regressor\n",
        "  * Multivariate Adaptive Regression Splines (MARS)\n",
        "  * Spline Regressor\n",
        "  * Generalized Additive Models - LinearGAM, PoissonGAM, GammaGAM\n",
        "  * Voting Regressor\n",
        "  * Stacking Regressor\n",
        "  * Model Blending\n"
      ]
    },
    {
      "cell_type": "markdown",
      "metadata": {
        "id": "U0A4n6BUYbz4"
      },
      "source": [
        "## **Important Libraries**\n",
        " \n",
        "* **pyGAM**: pyGAM is a package for building Generalized Additive Models in Python, with an emphasis on modularity and performance. The API will be immediately familiar to anyone with experience of scikit-learn or scipy. Refer to [documentation](https://pygam.readthedocs.io/en/latest/) for more information.\n",
        "\n",
        "* **py-earth**: The py-earth package implements Multivariate Adaptive Regression Splines using Cython and provides an interface that is compatible with scikit-learn's Estimator, Predictor, Transformer, and Model interfaces. Refer to [repository](https://github.com/scikit-learn-contrib/py-earth) for more information.\n",
        "\n",
        "* **redshift_connector**: redshift_connector is the Amazon Redshift connector for Python. Easy integration with pandas and numpy, as well as support for numerous Amazon Redshift specific features help you get the most out of your data. Refer to [documentation](https://pypi.org/project/redshift-connector/) for more information.\n",
        "\n",
        "---\n"
      ]
    },
    {
      "cell_type": "markdown",
      "metadata": {
        "id": "pJBBtYivfMME"
      },
      "source": [
        "## **Install Packages**"
      ]
    },
    {
      "cell_type": "code",
      "execution_count": 1,
      "metadata": {
        "id": "I3RBXruTfPLU"
      },
      "outputs": [],
      "source": [
        "# Ignore warnings\n",
        "import warnings\n",
        "warnings.filterwarnings('ignore')"
      ]
    },
    {
      "cell_type": "code",
      "execution_count": null,
      "metadata": {
        "colab": {
          "base_uri": "https://localhost:8080/"
        },
        "id": "cqwIcBSiTtmi",
        "outputId": "ab42d7f4-24d7-4320-fdb6-01e281a6be08"
      },
      "outputs": [],
      "source": [
        "!pip install redshift_connector --quiet --exists-action i\n",
        "!pip install numpy==1.23.5 --quiet\n",
        "!pip install pandas==1.5.2 --quiet\n",
        "!pip install matplotlib==3.6.2 --quiet\n",
        "!pip install scikit-learn==1.2.0 --quiet\n",
        "!pip install pygam==0.8.0 --quiet\n",
        "!pip install projectpro --upgrade --quiet"
      ]
    },
    {
      "cell_type": "markdown",
      "metadata": {
        "id": "t4dyuUr4OevF"
      },
      "source": [
        "## **Data Reading from Different Sources**"
      ]
    },
    {
      "attachments": {},
      "cell_type": "markdown",
      "metadata": {
        "id": "cyaF_KDKOh6x"
      },
      "source": [
        "#### **1. Local files**\n",
        " \n",
        "In many cases, the data is stored in local system. To read the data from the local system, specify the correct path and filename.\n",
        "* **CSV format**\n",
        " \n",
        "Comma-separated values, also known as CSV, is a specific way to store data in a table structure format.\n",
        "The data used in this project is stored in a CSV file.\n",
        "Click [here](https://s3.amazonaws.com/projex.dezyre.com/predict-big-mart-sales/materials/data.zip) to download the data used in this project.\n",
        " \n",
        "Use following code to read data from csv file using pandas. \n",
        "```\n",
        "import pandas as pd\n",
        "csv_file_path= \"D:/ProjectPro/BigMart Sales Prediction ML Project in Python/data/train_kOBLwZA.csv\"\n",
        "df = pd.read_csv(csv_file_path)\n",
        "```\n",
        "With appropriate csv_file_path, pd.read_csv() function will read the data and store it in df variable.\n",
        " \n",
        "If you get *FileNotFoundError or No such file or directory*, try checking the path provided in the function. It's possible that python is not able to find the file or directory at a given location.\n",
        " \n",
        "---\n",
        "\n",
        "#### **2. Database**\n",
        " \n",
        "Most organization store their data in databases such as [MySQL](https://www.mysql.com/) or [Postgres](https://www.postgresql.org/). The data can be accessed by secret credentials, which will be in the following format.\n",
        "```\n",
        "host = \"host address\"\n",
        "database= \"bigmart\"\n",
        "user = \"ProjectPro\"\n",
        "password = \"xyz\"\n",
        "```\n",
        "MySQL is an open-source relational database management system.\n",
        " \n",
        "In this project, we will demonstrate how to connect python to a MySQL server to fetch the data.\n",
        "We will use the [pymysql](https://pypi.org/project/PyMySQL/) library to connect to the MySQL server.\n",
        " \n",
        "\n"
      ]
    },
    {
      "cell_type": "markdown",
      "metadata": {
        "id": "qXsWNpQpOl2L"
      },
      "source": [
        "---"
      ]
    },
    {
      "cell_type": "code",
      "execution_count": 2,
      "metadata": {
        "id": "OazCSnAQQbW9"
      },
      "outputs": [],
      "source": [
        "# Import libraries \n",
        "import redshift_connector\n",
        "import pandas as pd\n",
        "import numpy as np\n",
        "\n",
        "import matplotlib.pyplot as plt\n",
        "import seaborn as sns\n",
        "import projectpro\n",
        "from scipy.stats import chi2_contingency\n",
        "from sklearn import preprocessing\n",
        "from scipy.stats import f_oneway\n",
        "from sklearn.linear_model import LinearRegression, ElasticNet\n",
        "from sklearn.ensemble import RandomForestRegressor,ExtraTreesRegressor, GradientBoostingRegressor\n",
        "from sklearn.neural_network import MLPRegressor\n",
        "from sklearn.model_selection import KFold, cross_val_score\n",
        "from sklearn.preprocessing import LabelEncoder\n",
        "projectpro.checkpoint('362665')"
      ]
    },
    {
      "cell_type": "markdown",
      "metadata": {
        "id": "9xpVOsiSQA7G"
      },
      "source": [
        "## **Data Reading and Exploration with Redshift**"
      ]
    },
    {
      "cell_type": "markdown",
      "metadata": {
        "id": "foQ4_S7EcmeN"
      },
      "source": [
        "#### **Connect to Redshift Cluster**"
      ]
    },
    {
      "cell_type": "code",
      "execution_count": null,
      "metadata": {
        "id": "tVRzS1tyTuK0"
      },
      "outputs": [],
      "source": [
        "'''conn = redshift_connector.connect(\n",
        "     host='host',\n",
        "     database='database',\n",
        "     user='user',\n",
        "     password='password',\n",
        "     port=1234\n",
        ")'''"
      ]
    },
    {
      "cell_type": "markdown",
      "metadata": {
        "id": "LjmqmrGKcreM"
      },
      "source": [
        "#### **Fetch entire data**"
      ]
    },
    {
      "cell_type": "code",
      "execution_count": null,
      "metadata": {
        "id": "PfQnoa1oTwzZ"
      },
      "outputs": [],
      "source": [
        "'''query = \"select * from public.data\"\n",
        "data = pd.read_sql(query, conn)'''"
      ]
    },
    {
      "cell_type": "markdown",
      "metadata": {},
      "source": [
        "## **Data Dictionary**\n",
        "The BigMart sales prediction dataset contains 2013's annual sales records for 1559 products across ten stores in different cities. Such vast data can reveal insights about apparent customer preferences as a specific product and store attributes have been defined in the dataset. \n",
        "\n",
        "* item_identifier: unique identification number for particular items\n",
        "* item_weight: weight of the items\n",
        "* item_fat_content: fat content in the item such as low fat and regular fat\n",
        "* item_visibility: visibility of the product in the outlet\n",
        "* item_type: category of the product such as Dairy, Soft Drink, Household, etc\n",
        "* item_mrp: Maximum retail price of the product\n",
        "* outlet_identifier: unique identification number for particular outlets\t\n",
        "* outlet_establishment_year: the year in which the outlet was established\n",
        "* outlet_size: the size of the outlet, such as small, medium, and high\n",
        "* outlet_location_type: location type in which the outlet is located, such as Tier 1, 2 and 3\n",
        "* outlet_type: type of the outlet such as grocery store or supermarket\n",
        "* item_outlet_sales: overall sales of the product in the outlet"
      ]
    },
    {
      "cell_type": "markdown",
      "metadata": {
        "id": "d7PzyyrRcz7z"
      },
      "source": [
        "#### **Find out rows where Item weight is missing**"
      ]
    },
    {
      "cell_type": "code",
      "execution_count": null,
      "metadata": {
        "colab": {
          "base_uri": "https://localhost:8080/",
          "height": 308
        },
        "id": "gZeIWD6Cc1Io",
        "outputId": "25bd48d4-bbad-4903-f933-1458d5db086a"
      },
      "outputs": [
        {
          "data": {
            "text/html": [
              "\n",
              "  <div id=\"df-fc5fbe83-cc98-43f0-9cb9-22ae741fd95f\">\n",
              "    <div class=\"colab-df-container\">\n",
              "      <div>\n",
              "<style scoped>\n",
              "    .dataframe tbody tr th:only-of-type {\n",
              "        vertical-align: middle;\n",
              "    }\n",
              "\n",
              "    .dataframe tbody tr th {\n",
              "        vertical-align: top;\n",
              "    }\n",
              "\n",
              "    .dataframe thead th {\n",
              "        text-align: right;\n",
              "    }\n",
              "</style>\n",
              "<table border=\"1\" class=\"dataframe\">\n",
              "  <thead>\n",
              "    <tr style=\"text-align: right;\">\n",
              "      <th></th>\n",
              "      <th>item_identifier</th>\n",
              "      <th>item_weight</th>\n",
              "      <th>item_fat_content</th>\n",
              "      <th>item_visibility</th>\n",
              "      <th>item_type</th>\n",
              "      <th>item_mrp</th>\n",
              "      <th>outlet_identifier</th>\n",
              "      <th>outlet_establishment_year</th>\n",
              "      <th>outlet_size</th>\n",
              "      <th>outlet_location_type</th>\n",
              "      <th>outlet_type</th>\n",
              "      <th>item_outlet_sales</th>\n",
              "    </tr>\n",
              "  </thead>\n",
              "  <tbody>\n",
              "    <tr>\n",
              "      <th>0</th>\n",
              "      <td>FDN52</td>\n",
              "      <td>None</td>\n",
              "      <td>Regular</td>\n",
              "      <td>0.130932</td>\n",
              "      <td>Frozen Foods</td>\n",
              "      <td>86.9198</td>\n",
              "      <td>OUT027</td>\n",
              "      <td>1985</td>\n",
              "      <td>Medium</td>\n",
              "      <td>Tier 3</td>\n",
              "      <td>Supermarket Type3</td>\n",
              "      <td>1569.9564</td>\n",
              "    </tr>\n",
              "    <tr>\n",
              "      <th>1</th>\n",
              "      <td>FDK57</td>\n",
              "      <td>None</td>\n",
              "      <td>Low Fat</td>\n",
              "      <td>0.079904</td>\n",
              "      <td>Snack Foods</td>\n",
              "      <td>120.0440</td>\n",
              "      <td>OUT027</td>\n",
              "      <td>1985</td>\n",
              "      <td>Medium</td>\n",
              "      <td>Tier 3</td>\n",
              "      <td>Supermarket Type3</td>\n",
              "      <td>4434.2280</td>\n",
              "    </tr>\n",
              "    <tr>\n",
              "      <th>2</th>\n",
              "      <td>FDE52</td>\n",
              "      <td>None</td>\n",
              "      <td>Regular</td>\n",
              "      <td>0.029742</td>\n",
              "      <td>Dairy</td>\n",
              "      <td>88.9514</td>\n",
              "      <td>OUT027</td>\n",
              "      <td>1985</td>\n",
              "      <td>Medium</td>\n",
              "      <td>Tier 3</td>\n",
              "      <td>Supermarket Type3</td>\n",
              "      <td>3453.5046</td>\n",
              "    </tr>\n",
              "    <tr>\n",
              "      <th>3</th>\n",
              "      <td>FDQ60</td>\n",
              "      <td>None</td>\n",
              "      <td>Regular</td>\n",
              "      <td>0.191500</td>\n",
              "      <td>Baking Goods</td>\n",
              "      <td>121.2098</td>\n",
              "      <td>OUT019</td>\n",
              "      <td>1985</td>\n",
              "      <td>Small</td>\n",
              "      <td>Tier 1</td>\n",
              "      <td>Grocery Store</td>\n",
              "      <td>120.5098</td>\n",
              "    </tr>\n",
              "  </tbody>\n",
              "</table>\n",
              "</div>\n",
              "      <button class=\"colab-df-convert\" onclick=\"convertToInteractive('df-fc5fbe83-cc98-43f0-9cb9-22ae741fd95f')\"\n",
              "              title=\"Convert this dataframe to an interactive table.\"\n",
              "              style=\"display:none;\">\n",
              "        \n",
              "  <svg xmlns=\"http://www.w3.org/2000/svg\" height=\"24px\"viewBox=\"0 0 24 24\"\n",
              "       width=\"24px\">\n",
              "    <path d=\"M0 0h24v24H0V0z\" fill=\"none\"/>\n",
              "    <path d=\"M18.56 5.44l.94 2.06.94-2.06 2.06-.94-2.06-.94-.94-2.06-.94 2.06-2.06.94zm-11 1L8.5 8.5l.94-2.06 2.06-.94-2.06-.94L8.5 2.5l-.94 2.06-2.06.94zm10 10l.94 2.06.94-2.06 2.06-.94-2.06-.94-.94-2.06-.94 2.06-2.06.94z\"/><path d=\"M17.41 7.96l-1.37-1.37c-.4-.4-.92-.59-1.43-.59-.52 0-1.04.2-1.43.59L10.3 9.45l-7.72 7.72c-.78.78-.78 2.05 0 2.83L4 21.41c.39.39.9.59 1.41.59.51 0 1.02-.2 1.41-.59l7.78-7.78 2.81-2.81c.8-.78.8-2.07 0-2.86zM5.41 20L4 18.59l7.72-7.72 1.47 1.35L5.41 20z\"/>\n",
              "  </svg>\n",
              "      </button>\n",
              "      \n",
              "  <style>\n",
              "    .colab-df-container {\n",
              "      display:flex;\n",
              "      flex-wrap:wrap;\n",
              "      gap: 12px;\n",
              "    }\n",
              "\n",
              "    .colab-df-convert {\n",
              "      background-color: #E8F0FE;\n",
              "      border: none;\n",
              "      border-radius: 50%;\n",
              "      cursor: pointer;\n",
              "      display: none;\n",
              "      fill: #1967D2;\n",
              "      height: 32px;\n",
              "      padding: 0 0 0 0;\n",
              "      width: 32px;\n",
              "    }\n",
              "\n",
              "    .colab-df-convert:hover {\n",
              "      background-color: #E2EBFA;\n",
              "      box-shadow: 0px 1px 2px rgba(60, 64, 67, 0.3), 0px 1px 3px 1px rgba(60, 64, 67, 0.15);\n",
              "      fill: #174EA6;\n",
              "    }\n",
              "\n",
              "    [theme=dark] .colab-df-convert {\n",
              "      background-color: #3B4455;\n",
              "      fill: #D2E3FC;\n",
              "    }\n",
              "\n",
              "    [theme=dark] .colab-df-convert:hover {\n",
              "      background-color: #434B5C;\n",
              "      box-shadow: 0px 1px 3px 1px rgba(0, 0, 0, 0.15);\n",
              "      filter: drop-shadow(0px 1px 2px rgba(0, 0, 0, 0.3));\n",
              "      fill: #FFFFFF;\n",
              "    }\n",
              "  </style>\n",
              "\n",
              "      <script>\n",
              "        const buttonEl =\n",
              "          document.querySelector('#df-fc5fbe83-cc98-43f0-9cb9-22ae741fd95f button.colab-df-convert');\n",
              "        buttonEl.style.display =\n",
              "          google.colab.kernel.accessAllowed ? 'block' : 'none';\n",
              "\n",
              "        async function convertToInteractive(key) {\n",
              "          const element = document.querySelector('#df-fc5fbe83-cc98-43f0-9cb9-22ae741fd95f');\n",
              "          const dataTable =\n",
              "            await google.colab.kernel.invokeFunction('convertToInteractive',\n",
              "                                                     [key], {});\n",
              "          if (!dataTable) return;\n",
              "\n",
              "          const docLinkHtml = 'Like what you see? Visit the ' +\n",
              "            '<a target=\"_blank\" href=https://colab.research.google.com/notebooks/data_table.ipynb>data table notebook</a>'\n",
              "            + ' to learn more about interactive tables.';\n",
              "          element.innerHTML = '';\n",
              "          dataTable['output_type'] = 'display_data';\n",
              "          await google.colab.output.renderOutput(dataTable, element);\n",
              "          const docLink = document.createElement('div');\n",
              "          docLink.innerHTML = docLinkHtml;\n",
              "          element.appendChild(docLink);\n",
              "        }\n",
              "      </script>\n",
              "    </div>\n",
              "  </div>\n",
              "  "
            ],
            "text/plain": [
              "  item_identifier item_weight item_fat_content  item_visibility     item_type  \\\n",
              "0           FDN52        None          Regular         0.130932  Frozen Foods   \n",
              "1           FDK57        None          Low Fat         0.079904   Snack Foods   \n",
              "2           FDE52        None          Regular         0.029742         Dairy   \n",
              "3           FDQ60        None          Regular         0.191500  Baking Goods   \n",
              "\n",
              "   item_mrp outlet_identifier  outlet_establishment_year outlet_size  \\\n",
              "0   86.9198            OUT027                       1985      Medium   \n",
              "1  120.0440            OUT027                       1985      Medium   \n",
              "2   88.9514            OUT027                       1985      Medium   \n",
              "3  121.2098            OUT019                       1985       Small   \n",
              "\n",
              "  outlet_location_type        outlet_type  item_outlet_sales  \n",
              "0               Tier 3  Supermarket Type3          1569.9564  \n",
              "1               Tier 3  Supermarket Type3          4434.2280  \n",
              "2               Tier 3  Supermarket Type3          3453.5046  \n",
              "3               Tier 1      Grocery Store           120.5098  "
            ]
          },
          "execution_count": 6,
          "metadata": {},
          "output_type": "execute_result"
        }
      ],
      "source": [
        "'''query = \"select * from public.data where item_weight is null\"\n",
        "data = pd.read_sql(query, conn)\n",
        "data'''"
      ]
    },
    {
      "cell_type": "markdown",
      "metadata": {
        "id": "oqXqNMfMdKCe"
      },
      "source": [
        "#### **How to fill the missing rows with respect to values from other columns**"
      ]
    },
    {
      "cell_type": "code",
      "execution_count": null,
      "metadata": {
        "id": "-Qgyv4poc07F"
      },
      "outputs": [],
      "source": [
        "'''cursor = conn.cursor()\n",
        "\n",
        "sql_string_update = \"\"\"update public.data1 \n",
        "                        set \"item_weight\" = b.maxweight\n",
        "                        from public.data1 a\n",
        "                        inner join (\n",
        "                        select \"item_identifier\", max(\"item_weight\") as maxweight\n",
        "                        from public.data1\n",
        "                        group by \"item_identifier\"\n",
        "                        ) b on a.\"item_identifier\" = b.\"item_identifier\";\n",
        "                        \"\"\"\n",
        "\n",
        "sql_ = sql_string_update.format('Null')\n",
        "\n",
        "cursor.execute(sql_string_update)\n",
        "\n",
        "conn.commit()\n",
        "\n",
        "#conn.close()'''"
      ]
    },
    {
      "cell_type": "markdown",
      "metadata": {
        "id": "cqczoGqTjas6"
      },
      "source": [
        "#### **To fill missing values by a certain value**"
      ]
    },
    {
      "cell_type": "code",
      "execution_count": null,
      "metadata": {
        "id": "8A-c_s7Cc0Yj"
      },
      "outputs": [],
      "source": [
        "'''cursor = conn.cursor()\n",
        "\n",
        "sql_string_update = \"\"\"UPDATE public.data SET \"outlet_size\" = {0} WHERE \"outlet_size\" = {1};\"\"\"\n",
        "\n",
        "sql_ = sql_string_update.format(\"'Small'\",\"''\")\n",
        "\n",
        "cursor.execute(sql_)\n",
        "\n",
        "conn.commit()\n",
        "\n",
        "#conn.close()'''"
      ]
    },
    {
      "cell_type": "code",
      "execution_count": null,
      "metadata": {
        "colab": {
          "base_uri": "https://localhost:8080/",
          "height": 661
        },
        "id": "ZX7OcSg9ppCl",
        "outputId": "d3ad8bc8-22fd-4db3-c907-a499c57ba9e8"
      },
      "outputs": [
        {
          "data": {
            "text/html": [
              "\n",
              "  <div id=\"df-75ce3fc1-e59c-4b24-b9d4-9fa1611efdf3\">\n",
              "    <div class=\"colab-df-container\">\n",
              "      <div>\n",
              "<style scoped>\n",
              "    .dataframe tbody tr th:only-of-type {\n",
              "        vertical-align: middle;\n",
              "    }\n",
              "\n",
              "    .dataframe tbody tr th {\n",
              "        vertical-align: top;\n",
              "    }\n",
              "\n",
              "    .dataframe thead th {\n",
              "        text-align: right;\n",
              "    }\n",
              "</style>\n",
              "<table border=\"1\" class=\"dataframe\">\n",
              "  <thead>\n",
              "    <tr style=\"text-align: right;\">\n",
              "      <th></th>\n",
              "      <th>item_identifier</th>\n",
              "      <th>item_weight</th>\n",
              "      <th>item_fat_content</th>\n",
              "      <th>item_visibility</th>\n",
              "      <th>item_type</th>\n",
              "      <th>item_mrp</th>\n",
              "      <th>outlet_identifier</th>\n",
              "      <th>outlet_establishment_year</th>\n",
              "      <th>outlet_size</th>\n",
              "      <th>outlet_location_type</th>\n",
              "      <th>outlet_type</th>\n",
              "      <th>item_outlet_sales</th>\n",
              "    </tr>\n",
              "  </thead>\n",
              "  <tbody>\n",
              "    <tr>\n",
              "      <th>0</th>\n",
              "      <td>FDA15</td>\n",
              "      <td>9.30</td>\n",
              "      <td>Low Fat</td>\n",
              "      <td>0.016047</td>\n",
              "      <td>Dairy</td>\n",
              "      <td>249.8092</td>\n",
              "      <td>OUT049</td>\n",
              "      <td>1999</td>\n",
              "      <td>Medium</td>\n",
              "      <td>Tier 1</td>\n",
              "      <td>Supermarket Type1</td>\n",
              "      <td>3735.1380</td>\n",
              "    </tr>\n",
              "    <tr>\n",
              "      <th>1</th>\n",
              "      <td>DRC01</td>\n",
              "      <td>5.92</td>\n",
              "      <td>Regular</td>\n",
              "      <td>0.019278</td>\n",
              "      <td>Soft Drinks</td>\n",
              "      <td>48.2692</td>\n",
              "      <td>OUT018</td>\n",
              "      <td>2009</td>\n",
              "      <td>Medium</td>\n",
              "      <td>Tier 3</td>\n",
              "      <td>Supermarket Type2</td>\n",
              "      <td>443.4228</td>\n",
              "    </tr>\n",
              "    <tr>\n",
              "      <th>2</th>\n",
              "      <td>FDN15</td>\n",
              "      <td>17.50</td>\n",
              "      <td>Low Fat</td>\n",
              "      <td>0.016760</td>\n",
              "      <td>Meat</td>\n",
              "      <td>141.6180</td>\n",
              "      <td>OUT049</td>\n",
              "      <td>1999</td>\n",
              "      <td>Medium</td>\n",
              "      <td>Tier 1</td>\n",
              "      <td>Supermarket Type1</td>\n",
              "      <td>2097.2700</td>\n",
              "    </tr>\n",
              "    <tr>\n",
              "      <th>3</th>\n",
              "      <td>NCD19</td>\n",
              "      <td>8.93</td>\n",
              "      <td>Low Fat</td>\n",
              "      <td>0.000000</td>\n",
              "      <td>Household</td>\n",
              "      <td>53.8614</td>\n",
              "      <td>OUT013</td>\n",
              "      <td>1987</td>\n",
              "      <td>High</td>\n",
              "      <td>Tier 3</td>\n",
              "      <td>Supermarket Type1</td>\n",
              "      <td>994.7052</td>\n",
              "    </tr>\n",
              "    <tr>\n",
              "      <th>4</th>\n",
              "      <td>FDP36</td>\n",
              "      <td>10.39</td>\n",
              "      <td>Regular</td>\n",
              "      <td>0.000000</td>\n",
              "      <td>Baking Goods</td>\n",
              "      <td>51.4008</td>\n",
              "      <td>OUT018</td>\n",
              "      <td>2009</td>\n",
              "      <td>Medium</td>\n",
              "      <td>Tier 3</td>\n",
              "      <td>Supermarket Type2</td>\n",
              "      <td>556.6088</td>\n",
              "    </tr>\n",
              "    <tr>\n",
              "      <th>...</th>\n",
              "      <td>...</td>\n",
              "      <td>...</td>\n",
              "      <td>...</td>\n",
              "      <td>...</td>\n",
              "      <td>...</td>\n",
              "      <td>...</td>\n",
              "      <td>...</td>\n",
              "      <td>...</td>\n",
              "      <td>...</td>\n",
              "      <td>...</td>\n",
              "      <td>...</td>\n",
              "      <td>...</td>\n",
              "    </tr>\n",
              "    <tr>\n",
              "      <th>8518</th>\n",
              "      <td>NCH43</td>\n",
              "      <td>8.42</td>\n",
              "      <td>Low Fat</td>\n",
              "      <td>0.070712</td>\n",
              "      <td>Household</td>\n",
              "      <td>216.4192</td>\n",
              "      <td>OUT045</td>\n",
              "      <td>2002</td>\n",
              "      <td>Small</td>\n",
              "      <td>Tier 2</td>\n",
              "      <td>Supermarket Type1</td>\n",
              "      <td>3020.0688</td>\n",
              "    </tr>\n",
              "    <tr>\n",
              "      <th>8519</th>\n",
              "      <td>FDW31</td>\n",
              "      <td>11.35</td>\n",
              "      <td>Regular</td>\n",
              "      <td>0.043245</td>\n",
              "      <td>Fruits and Vegetables</td>\n",
              "      <td>199.4742</td>\n",
              "      <td>OUT045</td>\n",
              "      <td>2002</td>\n",
              "      <td>Small</td>\n",
              "      <td>Tier 2</td>\n",
              "      <td>Supermarket Type1</td>\n",
              "      <td>2587.9646</td>\n",
              "    </tr>\n",
              "    <tr>\n",
              "      <th>8520</th>\n",
              "      <td>FDG45</td>\n",
              "      <td>8.10</td>\n",
              "      <td>Low Fat</td>\n",
              "      <td>0.214306</td>\n",
              "      <td>Fruits and Vegetables</td>\n",
              "      <td>213.9902</td>\n",
              "      <td>OUT010</td>\n",
              "      <td>1998</td>\n",
              "      <td>Small</td>\n",
              "      <td>Tier 3</td>\n",
              "      <td>Grocery Store</td>\n",
              "      <td>424.7804</td>\n",
              "    </tr>\n",
              "    <tr>\n",
              "      <th>8521</th>\n",
              "      <td>FDA01</td>\n",
              "      <td>15.00</td>\n",
              "      <td>Regular</td>\n",
              "      <td>0.054488</td>\n",
              "      <td>Canned</td>\n",
              "      <td>57.5904</td>\n",
              "      <td>OUT045</td>\n",
              "      <td>2002</td>\n",
              "      <td>Small</td>\n",
              "      <td>Tier 2</td>\n",
              "      <td>Supermarket Type1</td>\n",
              "      <td>468.7232</td>\n",
              "    </tr>\n",
              "    <tr>\n",
              "      <th>8522</th>\n",
              "      <td>FDS36</td>\n",
              "      <td>8.38</td>\n",
              "      <td>Regular</td>\n",
              "      <td>0.046982</td>\n",
              "      <td>Baking Goods</td>\n",
              "      <td>108.1570</td>\n",
              "      <td>OUT045</td>\n",
              "      <td>2002</td>\n",
              "      <td>Small</td>\n",
              "      <td>Tier 2</td>\n",
              "      <td>Supermarket Type1</td>\n",
              "      <td>549.2850</td>\n",
              "    </tr>\n",
              "  </tbody>\n",
              "</table>\n",
              "<p>8523 rows × 12 columns</p>\n",
              "</div>\n",
              "      <button class=\"colab-df-convert\" onclick=\"convertToInteractive('df-75ce3fc1-e59c-4b24-b9d4-9fa1611efdf3')\"\n",
              "              title=\"Convert this dataframe to an interactive table.\"\n",
              "              style=\"display:none;\">\n",
              "        \n",
              "  <svg xmlns=\"http://www.w3.org/2000/svg\" height=\"24px\"viewBox=\"0 0 24 24\"\n",
              "       width=\"24px\">\n",
              "    <path d=\"M0 0h24v24H0V0z\" fill=\"none\"/>\n",
              "    <path d=\"M18.56 5.44l.94 2.06.94-2.06 2.06-.94-2.06-.94-.94-2.06-.94 2.06-2.06.94zm-11 1L8.5 8.5l.94-2.06 2.06-.94-2.06-.94L8.5 2.5l-.94 2.06-2.06.94zm10 10l.94 2.06.94-2.06 2.06-.94-2.06-.94-.94-2.06-.94 2.06-2.06.94z\"/><path d=\"M17.41 7.96l-1.37-1.37c-.4-.4-.92-.59-1.43-.59-.52 0-1.04.2-1.43.59L10.3 9.45l-7.72 7.72c-.78.78-.78 2.05 0 2.83L4 21.41c.39.39.9.59 1.41.59.51 0 1.02-.2 1.41-.59l7.78-7.78 2.81-2.81c.8-.78.8-2.07 0-2.86zM5.41 20L4 18.59l7.72-7.72 1.47 1.35L5.41 20z\"/>\n",
              "  </svg>\n",
              "      </button>\n",
              "      \n",
              "  <style>\n",
              "    .colab-df-container {\n",
              "      display:flex;\n",
              "      flex-wrap:wrap;\n",
              "      gap: 12px;\n",
              "    }\n",
              "\n",
              "    .colab-df-convert {\n",
              "      background-color: #E8F0FE;\n",
              "      border: none;\n",
              "      border-radius: 50%;\n",
              "      cursor: pointer;\n",
              "      display: none;\n",
              "      fill: #1967D2;\n",
              "      height: 32px;\n",
              "      padding: 0 0 0 0;\n",
              "      width: 32px;\n",
              "    }\n",
              "\n",
              "    .colab-df-convert:hover {\n",
              "      background-color: #E2EBFA;\n",
              "      box-shadow: 0px 1px 2px rgba(60, 64, 67, 0.3), 0px 1px 3px 1px rgba(60, 64, 67, 0.15);\n",
              "      fill: #174EA6;\n",
              "    }\n",
              "\n",
              "    [theme=dark] .colab-df-convert {\n",
              "      background-color: #3B4455;\n",
              "      fill: #D2E3FC;\n",
              "    }\n",
              "\n",
              "    [theme=dark] .colab-df-convert:hover {\n",
              "      background-color: #434B5C;\n",
              "      box-shadow: 0px 1px 3px 1px rgba(0, 0, 0, 0.15);\n",
              "      filter: drop-shadow(0px 1px 2px rgba(0, 0, 0, 0.3));\n",
              "      fill: #FFFFFF;\n",
              "    }\n",
              "  </style>\n",
              "\n",
              "      <script>\n",
              "        const buttonEl =\n",
              "          document.querySelector('#df-75ce3fc1-e59c-4b24-b9d4-9fa1611efdf3 button.colab-df-convert');\n",
              "        buttonEl.style.display =\n",
              "          google.colab.kernel.accessAllowed ? 'block' : 'none';\n",
              "\n",
              "        async function convertToInteractive(key) {\n",
              "          const element = document.querySelector('#df-75ce3fc1-e59c-4b24-b9d4-9fa1611efdf3');\n",
              "          const dataTable =\n",
              "            await google.colab.kernel.invokeFunction('convertToInteractive',\n",
              "                                                     [key], {});\n",
              "          if (!dataTable) return;\n",
              "\n",
              "          const docLinkHtml = 'Like what you see? Visit the ' +\n",
              "            '<a target=\"_blank\" href=https://colab.research.google.com/notebooks/data_table.ipynb>data table notebook</a>'\n",
              "            + ' to learn more about interactive tables.';\n",
              "          element.innerHTML = '';\n",
              "          dataTable['output_type'] = 'display_data';\n",
              "          await google.colab.output.renderOutput(dataTable, element);\n",
              "          const docLink = document.createElement('div');\n",
              "          docLink.innerHTML = docLinkHtml;\n",
              "          element.appendChild(docLink);\n",
              "        }\n",
              "      </script>\n",
              "    </div>\n",
              "  </div>\n",
              "  "
            ],
            "text/plain": [
              "     item_identifier  item_weight item_fat_content  item_visibility  \\\n",
              "0              FDA15         9.30          Low Fat         0.016047   \n",
              "1              DRC01         5.92          Regular         0.019278   \n",
              "2              FDN15        17.50          Low Fat         0.016760   \n",
              "3              NCD19         8.93          Low Fat         0.000000   \n",
              "4              FDP36        10.39          Regular         0.000000   \n",
              "...              ...          ...              ...              ...   \n",
              "8518           NCH43         8.42          Low Fat         0.070712   \n",
              "8519           FDW31        11.35          Regular         0.043245   \n",
              "8520           FDG45         8.10          Low Fat         0.214306   \n",
              "8521           FDA01        15.00          Regular         0.054488   \n",
              "8522           FDS36         8.38          Regular         0.046982   \n",
              "\n",
              "                  item_type  item_mrp outlet_identifier  \\\n",
              "0                     Dairy  249.8092            OUT049   \n",
              "1               Soft Drinks   48.2692            OUT018   \n",
              "2                      Meat  141.6180            OUT049   \n",
              "3                 Household   53.8614            OUT013   \n",
              "4              Baking Goods   51.4008            OUT018   \n",
              "...                     ...       ...               ...   \n",
              "8518              Household  216.4192            OUT045   \n",
              "8519  Fruits and Vegetables  199.4742            OUT045   \n",
              "8520  Fruits and Vegetables  213.9902            OUT010   \n",
              "8521                 Canned   57.5904            OUT045   \n",
              "8522           Baking Goods  108.1570            OUT045   \n",
              "\n",
              "      outlet_establishment_year outlet_size outlet_location_type  \\\n",
              "0                          1999      Medium               Tier 1   \n",
              "1                          2009      Medium               Tier 3   \n",
              "2                          1999      Medium               Tier 1   \n",
              "3                          1987        High               Tier 3   \n",
              "4                          2009      Medium               Tier 3   \n",
              "...                         ...         ...                  ...   \n",
              "8518                       2002       Small               Tier 2   \n",
              "8519                       2002       Small               Tier 2   \n",
              "8520                       1998       Small               Tier 3   \n",
              "8521                       2002       Small               Tier 2   \n",
              "8522                       2002       Small               Tier 2   \n",
              "\n",
              "            outlet_type  item_outlet_sales  \n",
              "0     Supermarket Type1          3735.1380  \n",
              "1     Supermarket Type2           443.4228  \n",
              "2     Supermarket Type1          2097.2700  \n",
              "3     Supermarket Type1           994.7052  \n",
              "4     Supermarket Type2           556.6088  \n",
              "...                 ...                ...  \n",
              "8518  Supermarket Type1          3020.0688  \n",
              "8519  Supermarket Type1          2587.9646  \n",
              "8520      Grocery Store           424.7804  \n",
              "8521  Supermarket Type1           468.7232  \n",
              "8522  Supermarket Type1           549.2850  \n",
              "\n",
              "[8523 rows x 12 columns]"
            ]
          },
          "execution_count": 7,
          "metadata": {},
          "output_type": "execute_result"
        }
      ],
      "source": [
        "'''query = \"select * from public.data\"\n",
        "data = pd.read_sql(query, conn)\n",
        "data'''"
      ]
    },
    {
      "cell_type": "markdown",
      "metadata": {},
      "source": [
        "---"
      ]
    },
    {
      "cell_type": "markdown",
      "metadata": {
        "id": "L5TMzj24QIDj"
      },
      "source": [
        "## **Data Reading in Python**"
      ]
    },
    {
      "cell_type": "code",
      "execution_count": 3,
      "metadata": {
        "id": "NZhnPPcfQiYm"
      },
      "outputs": [],
      "source": [
        "# Loading Train and Test data\n",
        "data = pd.read_csv(\"../data/train_kOBLwZA.csv\")\n",
        "test_data = pd.read_csv(\"../data/test_t02dQwI.csv\")"
      ]
    },
    {
      "cell_type": "code",
      "execution_count": 4,
      "metadata": {},
      "outputs": [
        {
          "data": {
            "text/html": [
              "<div>\n",
              "<style scoped>\n",
              "    .dataframe tbody tr th:only-of-type {\n",
              "        vertical-align: middle;\n",
              "    }\n",
              "\n",
              "    .dataframe tbody tr th {\n",
              "        vertical-align: top;\n",
              "    }\n",
              "\n",
              "    .dataframe thead th {\n",
              "        text-align: right;\n",
              "    }\n",
              "</style>\n",
              "<table border=\"1\" class=\"dataframe\">\n",
              "  <thead>\n",
              "    <tr style=\"text-align: right;\">\n",
              "      <th></th>\n",
              "      <th>Item_Identifier</th>\n",
              "      <th>Item_Weight</th>\n",
              "      <th>Item_Fat_Content</th>\n",
              "      <th>Item_Visibility</th>\n",
              "      <th>Item_Type</th>\n",
              "      <th>Item_MRP</th>\n",
              "      <th>Outlet_Identifier</th>\n",
              "      <th>Outlet_Establishment_Year</th>\n",
              "      <th>Outlet_Size</th>\n",
              "      <th>Outlet_Location_Type</th>\n",
              "      <th>Outlet_Type</th>\n",
              "      <th>Item_Outlet_Sales</th>\n",
              "    </tr>\n",
              "  </thead>\n",
              "  <tbody>\n",
              "    <tr>\n",
              "      <th>0</th>\n",
              "      <td>FDA15</td>\n",
              "      <td>9.30</td>\n",
              "      <td>Low Fat</td>\n",
              "      <td>0.016047</td>\n",
              "      <td>Dairy</td>\n",
              "      <td>249.8092</td>\n",
              "      <td>OUT049</td>\n",
              "      <td>1999</td>\n",
              "      <td>Medium</td>\n",
              "      <td>Tier 1</td>\n",
              "      <td>Supermarket Type1</td>\n",
              "      <td>3735.1380</td>\n",
              "    </tr>\n",
              "    <tr>\n",
              "      <th>1</th>\n",
              "      <td>DRC01</td>\n",
              "      <td>5.92</td>\n",
              "      <td>Regular</td>\n",
              "      <td>0.019278</td>\n",
              "      <td>Soft Drinks</td>\n",
              "      <td>48.2692</td>\n",
              "      <td>OUT018</td>\n",
              "      <td>2009</td>\n",
              "      <td>Medium</td>\n",
              "      <td>Tier 3</td>\n",
              "      <td>Supermarket Type2</td>\n",
              "      <td>443.4228</td>\n",
              "    </tr>\n",
              "    <tr>\n",
              "      <th>2</th>\n",
              "      <td>FDN15</td>\n",
              "      <td>17.50</td>\n",
              "      <td>Low Fat</td>\n",
              "      <td>0.016760</td>\n",
              "      <td>Meat</td>\n",
              "      <td>141.6180</td>\n",
              "      <td>OUT049</td>\n",
              "      <td>1999</td>\n",
              "      <td>Medium</td>\n",
              "      <td>Tier 1</td>\n",
              "      <td>Supermarket Type1</td>\n",
              "      <td>2097.2700</td>\n",
              "    </tr>\n",
              "    <tr>\n",
              "      <th>3</th>\n",
              "      <td>FDX07</td>\n",
              "      <td>19.20</td>\n",
              "      <td>Regular</td>\n",
              "      <td>0.000000</td>\n",
              "      <td>Fruits and Vegetables</td>\n",
              "      <td>182.0950</td>\n",
              "      <td>OUT010</td>\n",
              "      <td>1998</td>\n",
              "      <td>NaN</td>\n",
              "      <td>Tier 3</td>\n",
              "      <td>Grocery Store</td>\n",
              "      <td>732.3800</td>\n",
              "    </tr>\n",
              "    <tr>\n",
              "      <th>4</th>\n",
              "      <td>NCD19</td>\n",
              "      <td>8.93</td>\n",
              "      <td>Low Fat</td>\n",
              "      <td>0.000000</td>\n",
              "      <td>Household</td>\n",
              "      <td>53.8614</td>\n",
              "      <td>OUT013</td>\n",
              "      <td>1987</td>\n",
              "      <td>High</td>\n",
              "      <td>Tier 3</td>\n",
              "      <td>Supermarket Type1</td>\n",
              "      <td>994.7052</td>\n",
              "    </tr>\n",
              "  </tbody>\n",
              "</table>\n",
              "</div>"
            ],
            "text/plain": [
              "  Item_Identifier  Item_Weight Item_Fat_Content  Item_Visibility  \\\n",
              "0           FDA15         9.30          Low Fat         0.016047   \n",
              "1           DRC01         5.92          Regular         0.019278   \n",
              "2           FDN15        17.50          Low Fat         0.016760   \n",
              "3           FDX07        19.20          Regular         0.000000   \n",
              "4           NCD19         8.93          Low Fat         0.000000   \n",
              "\n",
              "               Item_Type  Item_MRP Outlet_Identifier  \\\n",
              "0                  Dairy  249.8092            OUT049   \n",
              "1            Soft Drinks   48.2692            OUT018   \n",
              "2                   Meat  141.6180            OUT049   \n",
              "3  Fruits and Vegetables  182.0950            OUT010   \n",
              "4              Household   53.8614            OUT013   \n",
              "\n",
              "   Outlet_Establishment_Year Outlet_Size Outlet_Location_Type  \\\n",
              "0                       1999      Medium               Tier 1   \n",
              "1                       2009      Medium               Tier 3   \n",
              "2                       1999      Medium               Tier 1   \n",
              "3                       1998         NaN               Tier 3   \n",
              "4                       1987        High               Tier 3   \n",
              "\n",
              "         Outlet_Type  Item_Outlet_Sales  \n",
              "0  Supermarket Type1          3735.1380  \n",
              "1  Supermarket Type2           443.4228  \n",
              "2  Supermarket Type1          2097.2700  \n",
              "3      Grocery Store           732.3800  \n",
              "4  Supermarket Type1           994.7052  "
            ]
          },
          "execution_count": 4,
          "metadata": {},
          "output_type": "execute_result"
        }
      ],
      "source": [
        "data.head()"
      ]
    },
    {
      "cell_type": "code",
      "execution_count": 5,
      "metadata": {},
      "outputs": [
        {
          "name": "stdout",
          "output_type": "stream",
          "text": [
            "<class 'pandas.core.frame.DataFrame'>\n",
            "RangeIndex: 8523 entries, 0 to 8522\n",
            "Data columns (total 12 columns):\n",
            " #   Column                     Non-Null Count  Dtype  \n",
            "---  ------                     --------------  -----  \n",
            " 0   Item_Identifier            8523 non-null   object \n",
            " 1   Item_Weight                7060 non-null   float64\n",
            " 2   Item_Fat_Content           8523 non-null   object \n",
            " 3   Item_Visibility            8523 non-null   float64\n",
            " 4   Item_Type                  8523 non-null   object \n",
            " 5   Item_MRP                   8523 non-null   float64\n",
            " 6   Outlet_Identifier          8523 non-null   object \n",
            " 7   Outlet_Establishment_Year  8523 non-null   int64  \n",
            " 8   Outlet_Size                6113 non-null   object \n",
            " 9   Outlet_Location_Type       8523 non-null   object \n",
            " 10  Outlet_Type                8523 non-null   object \n",
            " 11  Item_Outlet_Sales          8523 non-null   float64\n",
            "dtypes: float64(4), int64(1), object(7)\n",
            "memory usage: 799.2+ KB\n"
          ]
        }
      ],
      "source": [
        "data.info()"
      ]
    },
    {
      "attachments": {},
      "cell_type": "markdown",
      "metadata": {},
      "source": [
        "8523 entries in the training set, on which we will build our model, setting aside the test data for post modelling testing."
      ]
    },
    {
      "cell_type": "markdown",
      "metadata": {
        "id": "MgrR3YmMfsfR"
      },
      "source": [
        "## **Data Preprocessing in Python**"
      ]
    },
    {
      "cell_type": "code",
      "execution_count": 6,
      "metadata": {
        "id": "UBwNSgLPQsiJ"
      },
      "outputs": [],
      "source": [
        "# Impute missing 'Item_Weight' values with the maximum values within the same 'Item_Identifier' group\n",
        "data['Item_Weight'] = data['Item_Weight'].fillna(data.groupby('Item_Identifier')['Item_Weight'].transform('max'))\n"
      ]
    },
    {
      "cell_type": "code",
      "execution_count": 7,
      "metadata": {
        "id": "Ju0sZz5oQ0C4"
      },
      "outputs": [],
      "source": [
        "# Impute missing 'Outlet_Size' values with \"Small\"\n",
        "data['Outlet_Size'] = data['Outlet_Size'].fillna(\"Small\")\n"
      ]
    },
    {
      "cell_type": "code",
      "execution_count": 9,
      "metadata": {
        "colab": {
          "base_uri": "https://localhost:8080/"
        },
        "id": "Dc9AFyfYQgnB",
        "outputId": "8eab5419-12b2-47c7-e309-c80ef6c904a5"
      },
      "outputs": [
        {
          "data": {
            "text/plain": [
              "array(['Medium', 'Small', 'High'], dtype=object)"
            ]
          },
          "execution_count": 9,
          "metadata": {},
          "output_type": "execute_result"
        }
      ],
      "source": [
        "# Check unique values in the 'Outlet_Size' column\n",
        "unique_outlet_sizes = data['Outlet_Size'].unique()\n"
      ]
    },
    {
      "cell_type": "code",
      "execution_count": 10,
      "metadata": {
        "colab": {
          "base_uri": "https://localhost:8080/"
        },
        "id": "d1lTLe5pbRNZ",
        "outputId": "8260431f-3a48-4582-e5a3-388c58915ea9"
      },
      "outputs": [
        {
          "name": "stdout",
          "output_type": "stream",
          "text": [
            "<class 'pandas.core.frame.DataFrame'>\n",
            "RangeIndex: 8523 entries, 0 to 8522\n",
            "Data columns (total 12 columns):\n",
            " #   Column                     Non-Null Count  Dtype  \n",
            "---  ------                     --------------  -----  \n",
            " 0   Item_Identifier            8523 non-null   object \n",
            " 1   Item_Weight                8519 non-null   float64\n",
            " 2   Item_Fat_Content           8523 non-null   object \n",
            " 3   Item_Visibility            8523 non-null   float64\n",
            " 4   Item_Type                  8523 non-null   object \n",
            " 5   Item_MRP                   8523 non-null   float64\n",
            " 6   Outlet_Identifier          8523 non-null   object \n",
            " 7   Outlet_Establishment_Year  8523 non-null   int64  \n",
            " 8   Outlet_Size                8523 non-null   object \n",
            " 9   Outlet_Location_Type       8523 non-null   object \n",
            " 10  Outlet_Type                8523 non-null   object \n",
            " 11  Item_Outlet_Sales          8523 non-null   float64\n",
            "dtypes: float64(4), int64(1), object(7)\n",
            "memory usage: 799.2+ KB\n"
          ]
        }
      ],
      "source": [
        "# Check information about the DataFrame\n",
        "data.info()\n"
      ]
    },
    {
      "cell_type": "code",
      "execution_count": 12,
      "metadata": {
        "id": "z0loVrxebXT5"
      },
      "outputs": [],
      "source": [
        "# Delete rows with missing values in the 'Item_Weight' column by selecting non-null rows\n",
        "df = data[data['Item_Weight'].notna()]\n"
      ]
    },
    {
      "cell_type": "code",
      "execution_count": 13,
      "metadata": {
        "colab": {
          "base_uri": "https://localhost:8080/"
        },
        "id": "RqE2360GbntR",
        "outputId": "ebc8e2dd-d004-46e1-a1a4-86a36cb605f8"
      },
      "outputs": [
        {
          "name": "stdout",
          "output_type": "stream",
          "text": [
            "<class 'pandas.core.frame.DataFrame'>\n",
            "Int64Index: 8519 entries, 0 to 8522\n",
            "Data columns (total 12 columns):\n",
            " #   Column                     Non-Null Count  Dtype  \n",
            "---  ------                     --------------  -----  \n",
            " 0   Item_Identifier            8519 non-null   object \n",
            " 1   Item_Weight                8519 non-null   float64\n",
            " 2   Item_Fat_Content           8519 non-null   object \n",
            " 3   Item_Visibility            8519 non-null   float64\n",
            " 4   Item_Type                  8519 non-null   object \n",
            " 5   Item_MRP                   8519 non-null   float64\n",
            " 6   Outlet_Identifier          8519 non-null   object \n",
            " 7   Outlet_Establishment_Year  8519 non-null   int64  \n",
            " 8   Outlet_Size                8519 non-null   object \n",
            " 9   Outlet_Location_Type       8519 non-null   object \n",
            " 10  Outlet_Type                8519 non-null   object \n",
            " 11  Item_Outlet_Sales          8519 non-null   float64\n",
            "dtypes: float64(4), int64(1), object(7)\n",
            "memory usage: 865.2+ KB\n"
          ]
        }
      ],
      "source": [
        "# again check the information for non null count\n",
        "df.info()"
      ]
    },
    {
      "cell_type": "code",
      "execution_count": 14,
      "metadata": {
        "colab": {
          "base_uri": "https://localhost:8080/"
        },
        "id": "O2YLQrgYbpJy",
        "outputId": "44d484cf-1ec3-4448-dbb6-7876e0e8969e"
      },
      "outputs": [
        {
          "data": {
            "text/plain": [
              "Low Fat    5088\n",
              "Regular    2886\n",
              "LF          316\n",
              "reg         117\n",
              "low fat     112\n",
              "Name: Item_Fat_Content, dtype: int64"
            ]
          },
          "execution_count": 14,
          "metadata": {},
          "output_type": "execute_result"
        }
      ],
      "source": [
        "# Calculate and display the value counts for different categories in the 'Item_Fat_Content' column\n",
        "value_counts = df['Item_Fat_Content'].value_counts()\n"
      ]
    },
    {
      "cell_type": "code",
      "execution_count": 15,
      "metadata": {
        "id": "EENp-ZsGbyfL"
      },
      "outputs": [
        {
          "data": {
            "text/plain": [
              "Low Fat    5516\n",
              "Regular    3003\n",
              "Name: Item_Fat_Content, dtype: int64"
            ]
          },
          "execution_count": 15,
          "metadata": {},
          "output_type": "execute_result"
        }
      ],
      "source": [
        "# Replace specific values in 'Item_Fat_Content' column with standardized forms\n",
        "df.replace({'Item_Fat_Content': {'low fat': 'Low Fat', 'LF': 'Low Fat', 'reg': 'Regular'}}, inplace=True)\n",
        "\n",
        "# Check and display the updated value counts\n",
        "value_counts = df['Item_Fat_Content'].value_counts()\n"
      ]
    },
    {
      "cell_type": "code",
      "execution_count": 16,
      "metadata": {
        "colab": {
          "base_uri": "https://localhost:8080/"
        },
        "id": "XubFfz2_cSj-",
        "outputId": "6a5162b6-7ed6-4998-ee66-87e5868d5065"
      },
      "outputs": [
        {
          "data": {
            "text/plain": [
              "Fruits and Vegetables    1232\n",
              "Snack Foods              1199\n",
              "Household                 910\n",
              "Frozen Foods              855\n",
              "Dairy                     681\n",
              "Canned                    649\n",
              "Baking Goods              647\n",
              "Health and Hygiene        520\n",
              "Soft Drinks               445\n",
              "Meat                      425\n",
              "Breads                    251\n",
              "Hard Drinks               214\n",
              "Others                    169\n",
              "Starchy Foods             148\n",
              "Breakfast                 110\n",
              "Seafood                    64\n",
              "Name: Item_Type, dtype: int64"
            ]
          },
          "execution_count": 16,
          "metadata": {},
          "output_type": "execute_result"
        }
      ],
      "source": [
        "# Calculate and display the value counts for different categories in the 'Item_Type' column\n",
        "value_counts = df['Item_Type'].value_counts()\n"
      ]
    },
    {
      "cell_type": "markdown",
      "metadata": {},
      "source": [
        "---"
      ]
    },
    {
      "cell_type": "markdown",
      "metadata": {
        "id": "RD_4tArBT08V"
      },
      "source": [
        "## **Exploratory Data Analysis**\n"
      ]
    },
    {
      "cell_type": "code",
      "execution_count": 17,
      "metadata": {
        "colab": {
          "base_uri": "https://localhost:8080/",
          "height": 623
        },
        "id": "R_SRLLRCc8F0",
        "outputId": "80c52951-a47a-45f7-c222-75401b4ecc49"
      },
      "outputs": [
        {
          "data": {
            "text/plain": [
              "<AxesSubplot: xlabel='Outlet_Size', ylabel='count'>"
            ]
          },
          "execution_count": 17,
          "metadata": {},
          "output_type": "execute_result"
        },
        {
          "data": {
            "image/png": "[encoded data removed]",
            "text/plain": [
              "<Figure size 1000x1000 with 1 Axes>"
            ]
          },
          "metadata": {},
          "output_type": "display_data"
        }
      ],
      "source": [
        "# Create a count plot for the 'Outlet_Size' column\n",
        "plt.figure(figsize=(10, 10))\n",
        "sns.countplot(x='Outlet_Size', data=df)"
      ]
    },
    {
      "cell_type": "markdown",
      "metadata": {
        "id": "OiYQHzzORxuU"
      },
      "source": [
        "- It is visible that the small outlet size stores are much more in number."
      ]
    },
    {
      "cell_type": "code",
      "execution_count": 18,
      "metadata": {
        "colab": {
          "base_uri": "https://localhost:8080/",
          "height": 623
        },
        "id": "KBrJmDmHdD8l",
        "outputId": "812ddfac-e4ed-4572-ba16-502ead501d6c"
      },
      "outputs": [
        {
          "data": {
            "text/plain": [
              "<AxesSubplot: xlabel='Outlet_Type', ylabel='count'>"
            ]
          },
          "execution_count": 18,
          "metadata": {},
          "output_type": "execute_result"
        },
        {
          "data": {
            "image/png": "[encoded data removed]",
            "text/plain": [
              "<Figure size 1000x1000 with 1 Axes>"
            ]
          },
          "metadata": {},
          "output_type": "display_data"
        }
      ],
      "source": [
        "# Create a count plot for the 'Outlet_type' column \n",
        "plt.figure(figsize=(10,10))\n",
        "sns.countplot(x='Outlet_Type',data=df)"
      ]
    },
    {
      "cell_type": "markdown",
      "metadata": {
        "id": "W9kj_7IoUiKR"
      },
      "source": [
        "- Supermarket Type1 is the most frequent outlet type in the data."
      ]
    },
    {
      "cell_type": "code",
      "execution_count": 19,
      "metadata": {
        "colab": {
          "base_uri": "https://localhost:8080/",
          "height": 623
        },
        "id": "P9rf4b_fdWYp",
        "outputId": "17813fd8-3538-4780-81e1-541d35fdcb01"
      },
      "outputs": [
        {
          "data": {
            "text/plain": [
              "<AxesSubplot: xlabel='Outlet_Establishment_Year', ylabel='count'>"
            ]
          },
          "execution_count": 19,
          "metadata": {},
          "output_type": "execute_result"
        },
        {
          "data": {
            "image/png": "[encoded data removed]",
            "text/plain": [
              "<Figure size 1000x1000 with 1 Axes>"
            ]
          },
          "metadata": {},
          "output_type": "display_data"
        }
      ],
      "source": [
        "# Create a count plot for the 'Outlet_Establishment_Year' column\n",
        "plt.figure(figsize=(10, 10))\n",
        "sns.countplot(x='Outlet_Establishment_Year', data=df)\n"
      ]
    },
    {
      "cell_type": "markdown",
      "metadata": {
        "id": "cYgPmzHc9_6P"
      },
      "source": [
        "- Most stores were opened in the year 1985 and least in 1998."
      ]
    },
    {
      "cell_type": "code",
      "execution_count": 20,
      "metadata": {
        "colab": {
          "base_uri": "https://localhost:8080/",
          "height": 352
        },
        "id": "zzEVZqeRdjbo",
        "outputId": "e66b7105-7ddf-4fc1-8db1-94e9bf458c92"
      },
      "outputs": [
        {
          "data": {
            "text/plain": [
              "<AxesSubplot: xlabel='Item_Weight', ylabel='Density'>"
            ]
          },
          "execution_count": 20,
          "metadata": {},
          "output_type": "execute_result"
        },
        {
          "data": {
            "image/png": "[encoded data removed]",
            "text/plain": [
              "<Figure size 640x480 with 1 Axes>"
            ]
          },
          "metadata": {},
          "output_type": "display_data"
        }
      ],
      "source": [
        "# Create a weight distribution plot using the natural logarithm of 'Item_Weight'\n",
        "sns.distplot(np.log(df['Item_Weight']), color='red')\n"
      ]
    },
    {
      "cell_type": "code",
      "execution_count": 21,
      "metadata": {
        "colab": {
          "base_uri": "https://localhost:8080/",
          "height": 352
        },
        "id": "m3wTKr1henKR",
        "outputId": "3ec94e30-fbbe-483a-9d04-1dfe3a708f78"
      },
      "outputs": [
        {
          "data": {
            "text/plain": [
              "<AxesSubplot: xlabel='Item_Visibility', ylabel='Density'>"
            ]
          },
          "execution_count": 21,
          "metadata": {},
          "output_type": "execute_result"
        },
        {
          "data": {
            "image/png": "[encoded data removed]",
            "text/plain": [
              "<Figure size 640x480 with 1 Axes>"
            ]
          },
          "metadata": {},
          "output_type": "display_data"
        }
      ],
      "source": [
        "# Create a distribution plot for the 'Item_Visibility' column\n",
        "sns.distplot(df['Item_Visibility'], color='red')\n"
      ]
    },
    {
      "cell_type": "code",
      "execution_count": 23,
      "metadata": {
        "colab": {
          "base_uri": "https://localhost:8080/",
          "height": 352
        },
        "id": "SodCETuoe8ER",
        "outputId": "dc304eb9-0999-4a7e-9146-c0c0ec834c81"
      },
      "outputs": [
        {
          "data": {
            "text/plain": [
              "<AxesSubplot: xlabel='Item_MRP', ylabel='Density'>"
            ]
          },
          "execution_count": 23,
          "metadata": {},
          "output_type": "execute_result"
        },
        {
          "data": {
            "image/png": "[encoded data removed]",
            "text/plain": [
              "<Figure size 640x480 with 1 Axes>"
            ]
          },
          "metadata": {},
          "output_type": "display_data"
        }
      ],
      "source": [
        "# Create a distribution plot for the 'Item_MRP' column after applying the natural logarithm\n",
        "sns.distplot(np.log(df['Item_MRP']), color='blue')\n"
      ]
    },
    {
      "cell_type": "code",
      "execution_count": 27,
      "metadata": {
        "colab": {
          "base_uri": "https://localhost:8080/",
          "height": 441
        },
        "id": "Z2aMF4U-fKg1",
        "outputId": "4f814a93-5da0-4a2c-d964-06a6a1fabbfd"
      },
      "outputs": [
        {
          "data": {
            "text/plain": [
              "<seaborn.axisgrid.FacetGrid at 0x1fcc3d6bac0>"
            ]
          },
          "execution_count": 27,
          "metadata": {},
          "output_type": "execute_result"
        },
        {
          "data": {
            "image/png": "[encoded data removed]",
            "text/plain": [
              "<Figure size 500x500 with 1 Axes>"
            ]
          },
          "metadata": {},
          "output_type": "display_data"
        }
      ],
      "source": [
        "# Create a scatter plot with a linear regression line\n",
        "sns.lmplot(data=df, x=\"Item_MRP\", y=\"Item_Outlet_Sales\")\n"
      ]
    },
    {
      "cell_type": "code",
      "execution_count": 28,
      "metadata": {
        "colab": {
          "base_uri": "https://localhost:8080/",
          "height": 441
        },
        "id": "y6LPZf-RffIW",
        "outputId": "77a6adb3-b0b8-4d55-e467-0626e0f2c132"
      },
      "outputs": [
        {
          "data": {
            "text/plain": [
              "<seaborn.axisgrid.FacetGrid at 0x1fcc3e26be0>"
            ]
          },
          "execution_count": 28,
          "metadata": {},
          "output_type": "execute_result"
        },
        {
          "data": {
            "image/png": "[encoded data removed]",
            "text/plain": [
              "<Figure size 500x500 with 1 Axes>"
            ]
          },
          "metadata": {},
          "output_type": "display_data"
        }
      ],
      "source": [
        "# Create a scatter plot with a linear regression line\n",
        "sns.lmplot(data=df, x=\"Item_Visibility\", y=\"Item_Outlet_Sales\")\n"
      ]
    },
    {
      "cell_type": "code",
      "execution_count": 30,
      "metadata": {
        "colab": {
          "base_uri": "https://localhost:8080/",
          "height": 928
        },
        "id": "87Oc8patfq4N",
        "outputId": "65abcb1e-5e06-43a2-871a-2b4b619ff163"
      },
      "outputs": [
        {
          "data": {
            "image/png": "[encoded data removed]",
            "text/plain": [
              "<Figure size 1211.11x1200 with 16 Axes>"
            ]
          },
          "metadata": {},
          "output_type": "display_data"
        }
      ],
      "source": [
        "# Create a FacetGrid with histograms for 'Item_Outlet_Sales' by 'Item_Type'\n",
        "sns.FacetGrid(df, col='Item_Type', col_wrap=4)\\\n",
        "    .map(plt.hist, 'Item_Outlet_Sales')\\\n",
        "    .add_legend()\n"
      ]
    },
    {
      "cell_type": "markdown",
      "metadata": {
        "id": "fk_rF3m4THd0"
      },
      "source": [
        "### **Correlation**\n",
        " \n",
        "\n"
      ]
    },
    {
      "cell_type": "code",
      "execution_count": 31,
      "metadata": {
        "colab": {
          "base_uri": "https://localhost:8080/",
          "height": 686
        },
        "id": "7mz8QaTLgSQe",
        "outputId": "81cd991a-8259-4ec6-ea72-d5e79465e05d"
      },
      "outputs": [
        {
          "data": {
            "text/plain": [
              "<AxesSubplot: >"
            ]
          },
          "execution_count": 31,
          "metadata": {},
          "output_type": "execute_result"
        },
        {
          "data": {
            "image/png": "[encoded data removed]",
            "text/plain": [
              "<Figure size 1000x1000 with 2 Axes>"
            ]
          },
          "metadata": {},
          "output_type": "display_data"
        }
      ],
      "source": [
        "import seaborn as sns\n",
        "import matplotlib.pyplot as plt\n",
        "\n",
        "# Calculate the correlation matrix\n",
        "corr = df.corr()\n",
        "\n",
        "# Create a heatmap of correlations\n",
        "plt.figure(figsize=(10, 10))\n",
        "sns.heatmap(corr, cbar=True, square=True, annot=True, cmap='BrBG_r')\n"
      ]
    },
    {
      "cell_type": "markdown",
      "metadata": {
        "id": "O6ewj4keUqT1"
      },
      "source": [
        "### **Categorical Correlation**"
      ]
    },
    {
      "cell_type": "markdown",
      "metadata": {
        "id": "P5hbIzHx-Wk9"
      },
      "source": [
        "#### **Chi Squared Test**\n",
        "\n",
        "A sample's distribution of a categorical variable must frequently be compared to the distribution of a categorical variable in another sample.\n",
        "\n",
        "The chi squared test of independence, often known as the chi squared test of association, is used to detect whether or not categorical variables are related.\n",
        "\n"
      ]
    },
    {
      "cell_type": "code",
      "execution_count": 33,
      "metadata": {
        "colab": {
          "base_uri": "https://localhost:8080/"
        },
        "id": "sAf9qli943Vg",
        "outputId": "2fbceba3-47be-4f0e-cb06-10e3957aef3d"
      },
      "outputs": [
        {
          "name": "stdout",
          "output_type": "stream",
          "text": [
            "Outlet_Location_Type  Tier 1  Tier 2  Tier 3\n",
            "Outlet_Size                                 \n",
            "High                       0       0     932\n",
            "Medium                   930       0    1860\n",
            "Small                   1457    2785     555\n"
          ]
        }
      ],
      "source": [
        "# Create a cross-tabulation between 'Outlet_Size' and 'Outlet_Location_Type'\n",
        "cross_tab = pd.crosstab(index=df['Outlet_Size'], columns=df['Outlet_Location_Type'])\n",
        "print(cross_tab)\n"
      ]
    },
    {
      "cell_type": "code",
      "execution_count": 34,
      "metadata": {
        "colab": {
          "base_uri": "https://localhost:8080/",
          "height": 175
        },
        "id": "JWg1MBuX5PKf",
        "outputId": "af28b459-54fc-4cad-b67b-341a3fe72d5d"
      },
      "outputs": [
        {
          "data": {
            "text/html": [
              "<div>\n",
              "<style scoped>\n",
              "    .dataframe tbody tr th:only-of-type {\n",
              "        vertical-align: middle;\n",
              "    }\n",
              "\n",
              "    .dataframe tbody tr th {\n",
              "        vertical-align: top;\n",
              "    }\n",
              "\n",
              "    .dataframe thead th {\n",
              "        text-align: right;\n",
              "    }\n",
              "</style>\n",
              "<table border=\"1\" class=\"dataframe\">\n",
              "  <thead>\n",
              "    <tr style=\"text-align: right;\">\n",
              "      <th>Outlet_Location_Type</th>\n",
              "      <th>Tier 1</th>\n",
              "      <th>Tier 2</th>\n",
              "      <th>Tier 3</th>\n",
              "    </tr>\n",
              "    <tr>\n",
              "      <th>Outlet_Size</th>\n",
              "      <th></th>\n",
              "      <th></th>\n",
              "      <th></th>\n",
              "    </tr>\n",
              "  </thead>\n",
              "  <tbody>\n",
              "    <tr>\n",
              "      <th>High</th>\n",
              "      <td>0</td>\n",
              "      <td>0</td>\n",
              "      <td>932</td>\n",
              "    </tr>\n",
              "    <tr>\n",
              "      <th>Medium</th>\n",
              "      <td>930</td>\n",
              "      <td>0</td>\n",
              "      <td>1860</td>\n",
              "    </tr>\n",
              "    <tr>\n",
              "      <th>Small</th>\n",
              "      <td>1457</td>\n",
              "      <td>2785</td>\n",
              "      <td>555</td>\n",
              "    </tr>\n",
              "  </tbody>\n",
              "</table>\n",
              "</div>"
            ],
            "text/plain": [
              "Outlet_Location_Type  Tier 1  Tier 2  Tier 3\n",
              "Outlet_Size                                 \n",
              "High                       0       0     932\n",
              "Medium                   930       0    1860\n",
              "Small                   1457    2785     555"
            ]
          },
          "execution_count": 34,
          "metadata": {},
          "output_type": "execute_result"
        }
      ],
      "source": [
        "# cross tab\n",
        "cross_tab"
      ]
    },
    {
      "cell_type": "code",
      "execution_count": 35,
      "metadata": {
        "id": "3ZxRwaei5Shr"
      },
      "outputs": [],
      "source": [
        "# Perform a chi-squared test on the cross-tabulation table\n",
        "result = chi2_contingency(cross_tab)\n"
      ]
    },
    {
      "cell_type": "code",
      "execution_count": 36,
      "metadata": {
        "colab": {
          "base_uri": "https://localhost:8080/"
        },
        "id": "PtUhSb8j5lU4",
        "outputId": "e73adc28-835d-43ab-b7f7-6002c62fbb19"
      },
      "outputs": [
        {
          "data": {
            "text/plain": [
              "(4804.376637943735,\n",
              " 0.0,\n",
              " 4,\n",
              " array([[ 261.14379622,  304.68599601,  366.17020777],\n",
              "        [ 781.75020542,  912.0964902 , 1096.15330438],\n",
              "        [1344.10599836, 1568.21751379, 1884.67648785]]))"
            ]
          },
          "execution_count": 36,
          "metadata": {},
          "output_type": "execute_result"
        }
      ],
      "source": [
        "# H0 is - there is no significance\n",
        "result"
      ]
    },
    {
      "cell_type": "code",
      "execution_count": 37,
      "metadata": {
        "colab": {
          "base_uri": "https://localhost:8080/"
        },
        "id": "DviRu8Om52GI",
        "outputId": "74213223-9de5-4a8e-b698-d5ad70a5b274"
      },
      "outputs": [
        {
          "name": "stdout",
          "output_type": "stream",
          "text": [
            "The p value is 0.0\n"
          ]
        }
      ],
      "source": [
        "print(\"The p value is\",result[1])"
      ]
    },
    {
      "cell_type": "markdown",
      "metadata": {
        "id": "NMxQ_XfLGR9H"
      },
      "source": [
        "#### **Cramer's V Test**\n",
        "\n",
        "- Cramer's V is a method for assessing the strength of a relationship between two variables. Your variables of interest should be categorical, with two or more unique values per category, in order to use it. \n",
        "\n",
        "- When there is more than a 2 X 2 contingency, Cramer's V is employed to investigate the relationship between two category variables (e.g. 2 X 3). \n",
        "Cramer's V denotes the relationship or correlation between two variables."
      ]
    },
    {
      "cell_type": "code",
      "execution_count": 38,
      "metadata": {
        "id": "dO_xi6zA5740"
      },
      "outputs": [],
      "source": [
        "def cramers_v(var1, var2):\n",
        "    # Create a contingency table\n",
        "    cross_tab = np.array(pd.crosstab(var1, var2, rownames=None, colnames=None))\n",
        "    \n",
        "    # Calculate the chi-squared statistic\n",
        "    chi2_stat = chi2_contingency(cross_tab)[0]\n",
        "    \n",
        "    # Calculate the total number of observations\n",
        "    total_obs = np.sum(cross_tab)\n",
        "    \n",
        "    # Determine the minimum of the number of rows and columns in the contingency table\n",
        "    min_dimension = min(cross_tab.shape) - 1\n",
        "    \n",
        "    # Calculate Cramer's V statistic\n",
        "    cramers_v = chi2_stat / (total_obs * min_dimension)\n",
        "    \n",
        "    return cramers_v\n"
      ]
    },
    {
      "cell_type": "code",
      "execution_count": 39,
      "metadata": {
        "id": "hbouWU_Z7Qg-"
      },
      "outputs": [],
      "source": [
        "# Create a LabelEncoder instance\n",
        "label = preprocessing.LabelEncoder()\n",
        "\n",
        "# Create an empty DataFrame to store the encoded data\n",
        "data_encoded = pd.DataFrame()\n"
      ]
    },
    {
      "cell_type": "code",
      "execution_count": 41,
      "metadata": {
        "id": "De-Xnjnf-Lsa"
      },
      "outputs": [],
      "source": [
        "for i in df[['Outlet_Type', 'Outlet_Size', 'Outlet_Location_Type']].columns:\n",
        "    # Use the LabelEncoder to encode the categorical columns\n",
        "    data_encoded[i] = label.fit_transform(df[i])\n"
      ]
    },
    {
      "cell_type": "code",
      "execution_count": 42,
      "metadata": {
        "colab": {
          "base_uri": "https://localhost:8080/",
          "height": 424
        },
        "id": "qIzf8j6y-gjZ",
        "outputId": "fedc3c75-f5fe-4bf0-ab7f-0ea203297843"
      },
      "outputs": [
        {
          "data": {
            "text/html": [
              "<div>\n",
              "<style scoped>\n",
              "    .dataframe tbody tr th:only-of-type {\n",
              "        vertical-align: middle;\n",
              "    }\n",
              "\n",
              "    .dataframe tbody tr th {\n",
              "        vertical-align: top;\n",
              "    }\n",
              "\n",
              "    .dataframe thead th {\n",
              "        text-align: right;\n",
              "    }\n",
              "</style>\n",
              "<table border=\"1\" class=\"dataframe\">\n",
              "  <thead>\n",
              "    <tr style=\"text-align: right;\">\n",
              "      <th></th>\n",
              "      <th>Outlet_Type</th>\n",
              "      <th>Outlet_Size</th>\n",
              "      <th>Outlet_Location_Type</th>\n",
              "    </tr>\n",
              "  </thead>\n",
              "  <tbody>\n",
              "    <tr>\n",
              "      <th>0</th>\n",
              "      <td>1</td>\n",
              "      <td>1</td>\n",
              "      <td>0</td>\n",
              "    </tr>\n",
              "    <tr>\n",
              "      <th>1</th>\n",
              "      <td>2</td>\n",
              "      <td>1</td>\n",
              "      <td>2</td>\n",
              "    </tr>\n",
              "    <tr>\n",
              "      <th>2</th>\n",
              "      <td>1</td>\n",
              "      <td>1</td>\n",
              "      <td>0</td>\n",
              "    </tr>\n",
              "    <tr>\n",
              "      <th>3</th>\n",
              "      <td>0</td>\n",
              "      <td>2</td>\n",
              "      <td>2</td>\n",
              "    </tr>\n",
              "    <tr>\n",
              "      <th>4</th>\n",
              "      <td>1</td>\n",
              "      <td>0</td>\n",
              "      <td>2</td>\n",
              "    </tr>\n",
              "    <tr>\n",
              "      <th>...</th>\n",
              "      <td>...</td>\n",
              "      <td>...</td>\n",
              "      <td>...</td>\n",
              "    </tr>\n",
              "    <tr>\n",
              "      <th>8518</th>\n",
              "      <td>1</td>\n",
              "      <td>0</td>\n",
              "      <td>2</td>\n",
              "    </tr>\n",
              "    <tr>\n",
              "      <th>8519</th>\n",
              "      <td>1</td>\n",
              "      <td>2</td>\n",
              "      <td>1</td>\n",
              "    </tr>\n",
              "    <tr>\n",
              "      <th>8520</th>\n",
              "      <td>1</td>\n",
              "      <td>2</td>\n",
              "      <td>1</td>\n",
              "    </tr>\n",
              "    <tr>\n",
              "      <th>8521</th>\n",
              "      <td>2</td>\n",
              "      <td>1</td>\n",
              "      <td>2</td>\n",
              "    </tr>\n",
              "    <tr>\n",
              "      <th>8522</th>\n",
              "      <td>1</td>\n",
              "      <td>2</td>\n",
              "      <td>0</td>\n",
              "    </tr>\n",
              "  </tbody>\n",
              "</table>\n",
              "<p>8523 rows × 3 columns</p>\n",
              "</div>"
            ],
            "text/plain": [
              "      Outlet_Type  Outlet_Size  Outlet_Location_Type\n",
              "0               1            1                     0\n",
              "1               2            1                     2\n",
              "2               1            1                     0\n",
              "3               0            2                     2\n",
              "4               1            0                     2\n",
              "...           ...          ...                   ...\n",
              "8518            1            0                     2\n",
              "8519            1            2                     1\n",
              "8520            1            2                     1\n",
              "8521            2            1                     2\n",
              "8522            1            2                     0\n",
              "\n",
              "[8523 rows x 3 columns]"
            ]
          },
          "execution_count": 42,
          "metadata": {},
          "output_type": "execute_result"
        }
      ],
      "source": [
        "data_encoded"
      ]
    },
    {
      "cell_type": "code",
      "execution_count": 43,
      "metadata": {
        "id": "_B9ynSDz-iHa"
      },
      "outputs": [],
      "source": [
        "var4 = []  # Initialize an empty list\n",
        "\n",
        "for var1 in data_encoded:\n",
        "  col = []  # Initialize an empty list for each var1\n",
        "  for var2 in data_encoded:\n",
        "    cramers = cramers_v(data_encoded[var1], data_encoded[var2])  # Calculate Cramer's V\n",
        "    col.append(round(cramers, 2))  # Append rounded Cramer's V to the col list\n",
        "  var4.append(col)  # Append the col list to var4\n",
        "\n",
        "cramer_results = np.array(var4)  # Convert var4 to a NumPy array\n",
        "\n",
        "result_cv = pd.DataFrame(cramer_results, columns=data_encoded.columns, index=data_encoded.columns)  # Create a DataFrame with Cramer's V results\n"
      ]
    },
    {
      "cell_type": "code",
      "execution_count": 44,
      "metadata": {
        "colab": {
          "base_uri": "https://localhost:8080/",
          "height": 143
        },
        "id": "kvRAHwN7_e6Y",
        "outputId": "f6ed2f68-14c7-4883-98bc-430addf3c07e"
      },
      "outputs": [
        {
          "data": {
            "text/html": [
              "<div>\n",
              "<style scoped>\n",
              "    .dataframe tbody tr th:only-of-type {\n",
              "        vertical-align: middle;\n",
              "    }\n",
              "\n",
              "    .dataframe tbody tr th {\n",
              "        vertical-align: top;\n",
              "    }\n",
              "\n",
              "    .dataframe thead th {\n",
              "        text-align: right;\n",
              "    }\n",
              "</style>\n",
              "<table border=\"1\" class=\"dataframe\">\n",
              "  <thead>\n",
              "    <tr style=\"text-align: right;\">\n",
              "      <th></th>\n",
              "      <th>Outlet_Type</th>\n",
              "      <th>Outlet_Size</th>\n",
              "      <th>Outlet_Location_Type</th>\n",
              "    </tr>\n",
              "  </thead>\n",
              "  <tbody>\n",
              "    <tr>\n",
              "      <th>Outlet_Type</th>\n",
              "      <td>1.00</td>\n",
              "      <td>0.32</td>\n",
              "      <td>0.28</td>\n",
              "    </tr>\n",
              "    <tr>\n",
              "      <th>Outlet_Size</th>\n",
              "      <td>0.32</td>\n",
              "      <td>1.00</td>\n",
              "      <td>0.28</td>\n",
              "    </tr>\n",
              "    <tr>\n",
              "      <th>Outlet_Location_Type</th>\n",
              "      <td>0.28</td>\n",
              "      <td>0.28</td>\n",
              "      <td>1.00</td>\n",
              "    </tr>\n",
              "  </tbody>\n",
              "</table>\n",
              "</div>"
            ],
            "text/plain": [
              "                      Outlet_Type  Outlet_Size  Outlet_Location_Type\n",
              "Outlet_Type                  1.00         0.32                  0.28\n",
              "Outlet_Size                  0.32         1.00                  0.28\n",
              "Outlet_Location_Type         0.28         0.28                  1.00"
            ]
          },
          "execution_count": 44,
          "metadata": {},
          "output_type": "execute_result"
        }
      ],
      "source": [
        "result_cv"
      ]
    },
    {
      "cell_type": "markdown",
      "metadata": {
        "id": "iUjNvkN7GwYZ"
      },
      "source": [
        "#### **One Way ANOVA**\n",
        "\n",
        "ANOVA is an abbreviation for Analysis of Variances, which evaluates the differences between group means. It's a statistical hypothesis test that looks to see if the means of at least two populations differ. To run ANOVA, we require at least one continuous variable and one categorical variable that separates your data into comparison groups. The term \"analysis of variances\" refers to how the test uses variances to determine whether the means are different."
      ]
    },
    {
      "cell_type": "code",
      "execution_count": 45,
      "metadata": {
        "id": "YwZHF6DiAGRE"
      },
      "outputs": [],
      "source": [
        "# Finding correlation between 1 numeric and 1 catergorical -> 1WAY ANOVA"
      ]
    },
    {
      "cell_type": "code",
      "execution_count": 46,
      "metadata": {
        "id": "tlcDNMB4huvf"
      },
      "outputs": [],
      "source": [
        "# H0 -> there is no corelation\n",
        "# there is no corelation between outlet_type and sales\n",
        "# p value <0.05-> Reject my null hypothesis"
      ]
    },
    {
      "cell_type": "code",
      "execution_count": 47,
      "metadata": {
        "colab": {
          "base_uri": "https://localhost:8080/"
        },
        "id": "BCB_LYs-iDCo",
        "outputId": "b90a9e9e-7b06-4f5c-becf-3ff0e0fced65"
      },
      "outputs": [
        {
          "name": "stdout",
          "output_type": "stream",
          "text": [
            "Outlet_Location_Type\n",
            "Tier 1    [3735.138, 2097.27, 1516.0266, 2187.153, 1589....\n",
            "Tier 2    [1076.5986, 4710.535, 2748.4224, 1587.2672, 83...\n",
            "Tier 3    [443.4228, 732.38, 994.7052, 556.6088, 343.552...\n",
            "Name: Item_Outlet_Sales, dtype: object\n"
          ]
        }
      ],
      "source": [
        "# Group 'Item_Outlet_Sales' by 'Outlet_Location_Type' and create lists\n",
        "anova_prep_res = df.groupby('Outlet_Location_Type')['Item_Outlet_Sales'].apply(list)  \n",
        "\n",
        "print(anova_prep_res)\n"
      ]
    },
    {
      "cell_type": "code",
      "execution_count": 48,
      "metadata": {
        "id": "dlHlW27OjEFZ"
      },
      "outputs": [],
      "source": [
        "# Perform one-way ANOVA on the prepared data\n",
        "anovaresults = f_oneway(*anova_prep_res)  \n"
      ]
    },
    {
      "cell_type": "code",
      "execution_count": 49,
      "metadata": {
        "colab": {
          "base_uri": "https://localhost:8080/"
        },
        "id": "c90FDOTqjUsX",
        "outputId": "f823297f-abf9-4a50-db9e-7c7e43161131"
      },
      "outputs": [
        {
          "name": "stdout",
          "output_type": "stream",
          "text": [
            "The p value is 7.025683417882415e-24\n"
          ]
        }
      ],
      "source": [
        "# Print the p-value from the ANOVA results\n",
        "print(\"The p value is\", anovaresults[1])  \n"
      ]
    },
    {
      "cell_type": "code",
      "execution_count": 50,
      "metadata": {
        "colab": {
          "base_uri": "https://localhost:8080/"
        },
        "id": "3tQxR0nPjgaq",
        "outputId": "ad5f1419-e3c5-4af3-e71e-48d9ce68e133"
      },
      "outputs": [
        {
          "data": {
            "text/plain": [
              "F_onewayResult(statistic=53.64761754128398, pvalue=7.025683417882415e-24)"
            ]
          },
          "execution_count": 50,
          "metadata": {},
          "output_type": "execute_result"
        }
      ],
      "source": [
        "anovaresults"
      ]
    },
    {
      "cell_type": "markdown",
      "metadata": {},
      "source": [
        "---"
      ]
    },
    {
      "cell_type": "markdown",
      "metadata": {
        "id": "HoETRxVSPj5-"
      },
      "source": [
        "## **Feature Engineering**"
      ]
    },
    {
      "cell_type": "code",
      "execution_count": null,
      "metadata": {
        "colab": {
          "base_uri": "https://localhost:8080/",
          "height": 357
        },
        "id": "Bs-yPtNVj2GD",
        "outputId": "feb3f2b9-8e12-4e64-f946-5bfcc4ffb649"
      },
      "outputs": [
        {
          "data": {
            "text/html": [
              "<div>\n",
              "<style scoped>\n",
              "    .dataframe tbody tr th:only-of-type {\n",
              "        vertical-align: middle;\n",
              "    }\n",
              "\n",
              "    .dataframe tbody tr th {\n",
              "        vertical-align: top;\n",
              "    }\n",
              "\n",
              "    .dataframe thead th {\n",
              "        text-align: right;\n",
              "    }\n",
              "</style>\n",
              "<table border=\"1\" class=\"dataframe\">\n",
              "  <thead>\n",
              "    <tr style=\"text-align: right;\">\n",
              "      <th></th>\n",
              "      <th>Item_Identifier</th>\n",
              "      <th>Item_Weight</th>\n",
              "      <th>Item_Fat_Content</th>\n",
              "      <th>Item_Visibility</th>\n",
              "      <th>Item_Type</th>\n",
              "      <th>Item_MRP</th>\n",
              "      <th>Outlet_Identifier</th>\n",
              "      <th>Outlet_Establishment_Year</th>\n",
              "      <th>Outlet_Size</th>\n",
              "      <th>Outlet_Location_Type</th>\n",
              "      <th>Outlet_Type</th>\n",
              "      <th>Item_Outlet_Sales</th>\n",
              "    </tr>\n",
              "  </thead>\n",
              "  <tbody>\n",
              "    <tr>\n",
              "      <th>0</th>\n",
              "      <td>FDA15</td>\n",
              "      <td>9.30</td>\n",
              "      <td>Low Fat</td>\n",
              "      <td>0.016047</td>\n",
              "      <td>Dairy</td>\n",
              "      <td>249.8092</td>\n",
              "      <td>OUT049</td>\n",
              "      <td>1999</td>\n",
              "      <td>Medium</td>\n",
              "      <td>Tier 1</td>\n",
              "      <td>Supermarket Type1</td>\n",
              "      <td>3735.1380</td>\n",
              "    </tr>\n",
              "    <tr>\n",
              "      <th>1</th>\n",
              "      <td>DRC01</td>\n",
              "      <td>5.92</td>\n",
              "      <td>Regular</td>\n",
              "      <td>0.019278</td>\n",
              "      <td>Soft Drinks</td>\n",
              "      <td>48.2692</td>\n",
              "      <td>OUT018</td>\n",
              "      <td>2009</td>\n",
              "      <td>Medium</td>\n",
              "      <td>Tier 3</td>\n",
              "      <td>Supermarket Type2</td>\n",
              "      <td>443.4228</td>\n",
              "    </tr>\n",
              "    <tr>\n",
              "      <th>2</th>\n",
              "      <td>FDN15</td>\n",
              "      <td>17.50</td>\n",
              "      <td>Low Fat</td>\n",
              "      <td>0.016760</td>\n",
              "      <td>Meat</td>\n",
              "      <td>141.6180</td>\n",
              "      <td>OUT049</td>\n",
              "      <td>1999</td>\n",
              "      <td>Medium</td>\n",
              "      <td>Tier 1</td>\n",
              "      <td>Supermarket Type1</td>\n",
              "      <td>2097.2700</td>\n",
              "    </tr>\n",
              "    <tr>\n",
              "      <th>3</th>\n",
              "      <td>FDX07</td>\n",
              "      <td>19.20</td>\n",
              "      <td>Regular</td>\n",
              "      <td>0.000000</td>\n",
              "      <td>Fruits and Vegetables</td>\n",
              "      <td>182.0950</td>\n",
              "      <td>OUT010</td>\n",
              "      <td>1998</td>\n",
              "      <td>Small</td>\n",
              "      <td>Tier 3</td>\n",
              "      <td>Grocery Store</td>\n",
              "      <td>732.3800</td>\n",
              "    </tr>\n",
              "    <tr>\n",
              "      <th>4</th>\n",
              "      <td>NCD19</td>\n",
              "      <td>8.93</td>\n",
              "      <td>Low Fat</td>\n",
              "      <td>0.000000</td>\n",
              "      <td>Household</td>\n",
              "      <td>53.8614</td>\n",
              "      <td>OUT013</td>\n",
              "      <td>1987</td>\n",
              "      <td>High</td>\n",
              "      <td>Tier 3</td>\n",
              "      <td>Supermarket Type1</td>\n",
              "      <td>994.7052</td>\n",
              "    </tr>\n",
              "  </tbody>\n",
              "</table>\n",
              "</div>"
            ],
            "text/plain": [
              "  Item_Identifier  Item_Weight Item_Fat_Content  Item_Visibility  \\\n",
              "0           FDA15         9.30          Low Fat         0.016047   \n",
              "1           DRC01         5.92          Regular         0.019278   \n",
              "2           FDN15        17.50          Low Fat         0.016760   \n",
              "3           FDX07        19.20          Regular         0.000000   \n",
              "4           NCD19         8.93          Low Fat         0.000000   \n",
              "\n",
              "               Item_Type  Item_MRP Outlet_Identifier  \\\n",
              "0                  Dairy  249.8092            OUT049   \n",
              "1            Soft Drinks   48.2692            OUT018   \n",
              "2                   Meat  141.6180            OUT049   \n",
              "3  Fruits and Vegetables  182.0950            OUT010   \n",
              "4              Household   53.8614            OUT013   \n",
              "\n",
              "   Outlet_Establishment_Year Outlet_Size Outlet_Location_Type  \\\n",
              "0                       1999      Medium               Tier 1   \n",
              "1                       2009      Medium               Tier 3   \n",
              "2                       1999      Medium               Tier 1   \n",
              "3                       1998       Small               Tier 3   \n",
              "4                       1987        High               Tier 3   \n",
              "\n",
              "         Outlet_Type  Item_Outlet_Sales  \n",
              "0  Supermarket Type1          3735.1380  \n",
              "1  Supermarket Type2           443.4228  \n",
              "2  Supermarket Type1          2097.2700  \n",
              "3      Grocery Store           732.3800  \n",
              "4  Supermarket Type1           994.7052  "
            ]
          },
          "execution_count": 51,
          "metadata": {},
          "output_type": "execute_result"
        }
      ],
      "source": [
        "data.head()"
      ]
    },
    {
      "cell_type": "markdown",
      "metadata": {
        "id": "TjZgMnfeP52D"
      },
      "source": [
        "**Outlet Age**"
      ]
    },
    {
      "cell_type": "code",
      "execution_count": 52,
      "metadata": {
        "colab": {
          "base_uri": "https://localhost:8080/",
          "height": 461
        },
        "id": "OIOj5DLdk4GR",
        "outputId": "b144693f-a02f-4fa0-a20a-68522348ad9b"
      },
      "outputs": [
        {
          "data": {
            "text/html": [
              "<div>\n",
              "<style scoped>\n",
              "    .dataframe tbody tr th:only-of-type {\n",
              "        vertical-align: middle;\n",
              "    }\n",
              "\n",
              "    .dataframe tbody tr th {\n",
              "        vertical-align: top;\n",
              "    }\n",
              "\n",
              "    .dataframe thead th {\n",
              "        text-align: right;\n",
              "    }\n",
              "</style>\n",
              "<table border=\"1\" class=\"dataframe\">\n",
              "  <thead>\n",
              "    <tr style=\"text-align: right;\">\n",
              "      <th></th>\n",
              "      <th>Item_Identifier</th>\n",
              "      <th>Item_Weight</th>\n",
              "      <th>Item_Fat_Content</th>\n",
              "      <th>Item_Visibility</th>\n",
              "      <th>Item_Type</th>\n",
              "      <th>Item_MRP</th>\n",
              "      <th>Outlet_Identifier</th>\n",
              "      <th>Outlet_Size</th>\n",
              "      <th>Outlet_Location_Type</th>\n",
              "      <th>Outlet_Type</th>\n",
              "      <th>Item_Outlet_Sales</th>\n",
              "      <th>Outlet_Age</th>\n",
              "    </tr>\n",
              "  </thead>\n",
              "  <tbody>\n",
              "    <tr>\n",
              "      <th>0</th>\n",
              "      <td>FDA15</td>\n",
              "      <td>9.30</td>\n",
              "      <td>Low Fat</td>\n",
              "      <td>0.016047</td>\n",
              "      <td>Dairy</td>\n",
              "      <td>249.8092</td>\n",
              "      <td>OUT049</td>\n",
              "      <td>Medium</td>\n",
              "      <td>Tier 1</td>\n",
              "      <td>Supermarket Type1</td>\n",
              "      <td>3735.1380</td>\n",
              "      <td>23</td>\n",
              "    </tr>\n",
              "    <tr>\n",
              "      <th>1</th>\n",
              "      <td>DRC01</td>\n",
              "      <td>5.92</td>\n",
              "      <td>Regular</td>\n",
              "      <td>0.019278</td>\n",
              "      <td>Soft Drinks</td>\n",
              "      <td>48.2692</td>\n",
              "      <td>OUT018</td>\n",
              "      <td>Medium</td>\n",
              "      <td>Tier 3</td>\n",
              "      <td>Supermarket Type2</td>\n",
              "      <td>443.4228</td>\n",
              "      <td>13</td>\n",
              "    </tr>\n",
              "    <tr>\n",
              "      <th>2</th>\n",
              "      <td>FDN15</td>\n",
              "      <td>17.50</td>\n",
              "      <td>Low Fat</td>\n",
              "      <td>0.016760</td>\n",
              "      <td>Meat</td>\n",
              "      <td>141.6180</td>\n",
              "      <td>OUT049</td>\n",
              "      <td>Medium</td>\n",
              "      <td>Tier 1</td>\n",
              "      <td>Supermarket Type1</td>\n",
              "      <td>2097.2700</td>\n",
              "      <td>23</td>\n",
              "    </tr>\n",
              "    <tr>\n",
              "      <th>3</th>\n",
              "      <td>FDX07</td>\n",
              "      <td>19.20</td>\n",
              "      <td>Regular</td>\n",
              "      <td>0.000000</td>\n",
              "      <td>Fruits and Vegetables</td>\n",
              "      <td>182.0950</td>\n",
              "      <td>OUT010</td>\n",
              "      <td>Small</td>\n",
              "      <td>Tier 3</td>\n",
              "      <td>Grocery Store</td>\n",
              "      <td>732.3800</td>\n",
              "      <td>24</td>\n",
              "    </tr>\n",
              "    <tr>\n",
              "      <th>4</th>\n",
              "      <td>NCD19</td>\n",
              "      <td>8.93</td>\n",
              "      <td>Low Fat</td>\n",
              "      <td>0.000000</td>\n",
              "      <td>Household</td>\n",
              "      <td>53.8614</td>\n",
              "      <td>OUT013</td>\n",
              "      <td>High</td>\n",
              "      <td>Tier 3</td>\n",
              "      <td>Supermarket Type1</td>\n",
              "      <td>994.7052</td>\n",
              "      <td>35</td>\n",
              "    </tr>\n",
              "  </tbody>\n",
              "</table>\n",
              "</div>"
            ],
            "text/plain": [
              "  Item_Identifier  Item_Weight Item_Fat_Content  Item_Visibility  \\\n",
              "0           FDA15         9.30          Low Fat         0.016047   \n",
              "1           DRC01         5.92          Regular         0.019278   \n",
              "2           FDN15        17.50          Low Fat         0.016760   \n",
              "3           FDX07        19.20          Regular         0.000000   \n",
              "4           NCD19         8.93          Low Fat         0.000000   \n",
              "\n",
              "               Item_Type  Item_MRP Outlet_Identifier Outlet_Size  \\\n",
              "0                  Dairy  249.8092            OUT049      Medium   \n",
              "1            Soft Drinks   48.2692            OUT018      Medium   \n",
              "2                   Meat  141.6180            OUT049      Medium   \n",
              "3  Fruits and Vegetables  182.0950            OUT010       Small   \n",
              "4              Household   53.8614            OUT013        High   \n",
              "\n",
              "  Outlet_Location_Type        Outlet_Type  Item_Outlet_Sales  Outlet_Age  \n",
              "0               Tier 1  Supermarket Type1          3735.1380          23  \n",
              "1               Tier 3  Supermarket Type2           443.4228          13  \n",
              "2               Tier 1  Supermarket Type1          2097.2700          23  \n",
              "3               Tier 3      Grocery Store           732.3800          24  \n",
              "4               Tier 3  Supermarket Type1           994.7052          35  "
            ]
          },
          "execution_count": 52,
          "metadata": {},
          "output_type": "execute_result"
        }
      ],
      "source": [
        "# Dropped 4 rows from data and saved it in df\n",
        "\n",
        "# Calculate the 'Outlet_Age' by subtracting the 'Outlet_Establishment_Year' from 2022\n",
        "df['Outlet_Age'] = 2022 - df['Outlet_Establishment_Year']\n",
        "\n",
        "# Drop the 'Outlet_Establishment_Year' column from the DataFrame\n",
        "df = df.drop(columns=['Outlet_Establishment_Year'])\n",
        "\n",
        "# Display the first few rows of the modified DataFrame\n",
        "df.head()\n"
      ]
    },
    {
      "cell_type": "code",
      "execution_count": 53,
      "metadata": {
        "colab": {
          "base_uri": "https://localhost:8080/"
        },
        "id": "4dkLwfHcmMSK",
        "outputId": "89e94086-006a-4d85-cd2a-e766fa89d861"
      },
      "outputs": [
        {
          "data": {
            "text/plain": [
              "Index(['Item_Identifier', 'Item_Weight', 'Item_Fat_Content', 'Item_Visibility',\n",
              "       'Item_Type', 'Item_MRP', 'Outlet_Identifier', 'Outlet_Size',\n",
              "       'Outlet_Location_Type', 'Outlet_Type', 'Item_Outlet_Sales',\n",
              "       'Outlet_Age'],\n",
              "      dtype='object')"
            ]
          },
          "execution_count": 53,
          "metadata": {},
          "output_type": "execute_result"
        }
      ],
      "source": [
        "df.columns"
      ]
    },
    {
      "cell_type": "markdown",
      "metadata": {
        "id": "Y-rTL4mEQec8"
      },
      "source": [
        "**Label Encoding**"
      ]
    },
    {
      "cell_type": "code",
      "execution_count": 55,
      "metadata": {
        "colab": {
          "base_uri": "https://localhost:8080/",
          "height": 317
        },
        "id": "kXhSJGVllkDH",
        "outputId": "cac9c12f-4a02-49ab-fcd7-81b07ca3bf1c"
      },
      "outputs": [
        {
          "data": {
            "text/html": [
              "<div>\n",
              "<style scoped>\n",
              "    .dataframe tbody tr th:only-of-type {\n",
              "        vertical-align: middle;\n",
              "    }\n",
              "\n",
              "    .dataframe tbody tr th {\n",
              "        vertical-align: top;\n",
              "    }\n",
              "\n",
              "    .dataframe thead th {\n",
              "        text-align: right;\n",
              "    }\n",
              "</style>\n",
              "<table border=\"1\" class=\"dataframe\">\n",
              "  <thead>\n",
              "    <tr style=\"text-align: right;\">\n",
              "      <th></th>\n",
              "      <th>Item_Weight</th>\n",
              "      <th>Item_Fat_Content</th>\n",
              "      <th>Item_Visibility</th>\n",
              "      <th>Item_MRP</th>\n",
              "      <th>Outlet_Identifier</th>\n",
              "      <th>Outlet_Size</th>\n",
              "      <th>Outlet_Location_Type</th>\n",
              "      <th>Outlet_Type</th>\n",
              "      <th>Item_Outlet_Sales</th>\n",
              "      <th>Outlet_Age</th>\n",
              "      <th>...</th>\n",
              "      <th>Item_Type_Fruits and Vegetables</th>\n",
              "      <th>Item_Type_Hard Drinks</th>\n",
              "      <th>Item_Type_Health and Hygiene</th>\n",
              "      <th>Item_Type_Household</th>\n",
              "      <th>Item_Type_Meat</th>\n",
              "      <th>Item_Type_Others</th>\n",
              "      <th>Item_Type_Seafood</th>\n",
              "      <th>Item_Type_Snack Foods</th>\n",
              "      <th>Item_Type_Soft Drinks</th>\n",
              "      <th>Item_Type_Starchy Foods</th>\n",
              "    </tr>\n",
              "  </thead>\n",
              "  <tbody>\n",
              "    <tr>\n",
              "      <th>0</th>\n",
              "      <td>9.30</td>\n",
              "      <td>0</td>\n",
              "      <td>0.016047</td>\n",
              "      <td>249.8092</td>\n",
              "      <td>9</td>\n",
              "      <td>1</td>\n",
              "      <td>0</td>\n",
              "      <td>1</td>\n",
              "      <td>3735.1380</td>\n",
              "      <td>23</td>\n",
              "      <td>...</td>\n",
              "      <td>0</td>\n",
              "      <td>0</td>\n",
              "      <td>0</td>\n",
              "      <td>0</td>\n",
              "      <td>0</td>\n",
              "      <td>0</td>\n",
              "      <td>0</td>\n",
              "      <td>0</td>\n",
              "      <td>0</td>\n",
              "      <td>0</td>\n",
              "    </tr>\n",
              "    <tr>\n",
              "      <th>1</th>\n",
              "      <td>5.92</td>\n",
              "      <td>1</td>\n",
              "      <td>0.019278</td>\n",
              "      <td>48.2692</td>\n",
              "      <td>3</td>\n",
              "      <td>1</td>\n",
              "      <td>2</td>\n",
              "      <td>2</td>\n",
              "      <td>443.4228</td>\n",
              "      <td>13</td>\n",
              "      <td>...</td>\n",
              "      <td>0</td>\n",
              "      <td>0</td>\n",
              "      <td>0</td>\n",
              "      <td>0</td>\n",
              "      <td>0</td>\n",
              "      <td>0</td>\n",
              "      <td>0</td>\n",
              "      <td>0</td>\n",
              "      <td>1</td>\n",
              "      <td>0</td>\n",
              "    </tr>\n",
              "    <tr>\n",
              "      <th>2</th>\n",
              "      <td>17.50</td>\n",
              "      <td>0</td>\n",
              "      <td>0.016760</td>\n",
              "      <td>141.6180</td>\n",
              "      <td>9</td>\n",
              "      <td>1</td>\n",
              "      <td>0</td>\n",
              "      <td>1</td>\n",
              "      <td>2097.2700</td>\n",
              "      <td>23</td>\n",
              "      <td>...</td>\n",
              "      <td>0</td>\n",
              "      <td>0</td>\n",
              "      <td>0</td>\n",
              "      <td>0</td>\n",
              "      <td>1</td>\n",
              "      <td>0</td>\n",
              "      <td>0</td>\n",
              "      <td>0</td>\n",
              "      <td>0</td>\n",
              "      <td>0</td>\n",
              "    </tr>\n",
              "    <tr>\n",
              "      <th>3</th>\n",
              "      <td>19.20</td>\n",
              "      <td>1</td>\n",
              "      <td>0.000000</td>\n",
              "      <td>182.0950</td>\n",
              "      <td>0</td>\n",
              "      <td>2</td>\n",
              "      <td>2</td>\n",
              "      <td>0</td>\n",
              "      <td>732.3800</td>\n",
              "      <td>24</td>\n",
              "      <td>...</td>\n",
              "      <td>1</td>\n",
              "      <td>0</td>\n",
              "      <td>0</td>\n",
              "      <td>0</td>\n",
              "      <td>0</td>\n",
              "      <td>0</td>\n",
              "      <td>0</td>\n",
              "      <td>0</td>\n",
              "      <td>0</td>\n",
              "      <td>0</td>\n",
              "    </tr>\n",
              "    <tr>\n",
              "      <th>4</th>\n",
              "      <td>8.93</td>\n",
              "      <td>0</td>\n",
              "      <td>0.000000</td>\n",
              "      <td>53.8614</td>\n",
              "      <td>1</td>\n",
              "      <td>0</td>\n",
              "      <td>2</td>\n",
              "      <td>1</td>\n",
              "      <td>994.7052</td>\n",
              "      <td>35</td>\n",
              "      <td>...</td>\n",
              "      <td>0</td>\n",
              "      <td>0</td>\n",
              "      <td>0</td>\n",
              "      <td>1</td>\n",
              "      <td>0</td>\n",
              "      <td>0</td>\n",
              "      <td>0</td>\n",
              "      <td>0</td>\n",
              "      <td>0</td>\n",
              "      <td>0</td>\n",
              "    </tr>\n",
              "  </tbody>\n",
              "</table>\n",
              "<p>5 rows × 26 columns</p>\n",
              "</div>"
            ],
            "text/plain": [
              "   Item_Weight  Item_Fat_Content  Item_Visibility  Item_MRP  \\\n",
              "0         9.30                 0         0.016047  249.8092   \n",
              "1         5.92                 1         0.019278   48.2692   \n",
              "2        17.50                 0         0.016760  141.6180   \n",
              "3        19.20                 1         0.000000  182.0950   \n",
              "4         8.93                 0         0.000000   53.8614   \n",
              "\n",
              "   Outlet_Identifier  Outlet_Size  Outlet_Location_Type  Outlet_Type  \\\n",
              "0                  9            1                     0            1   \n",
              "1                  3            1                     2            2   \n",
              "2                  9            1                     0            1   \n",
              "3                  0            2                     2            0   \n",
              "4                  1            0                     2            1   \n",
              "\n",
              "   Item_Outlet_Sales  Outlet_Age  ...  Item_Type_Fruits and Vegetables  \\\n",
              "0          3735.1380          23  ...                                0   \n",
              "1           443.4228          13  ...                                0   \n",
              "2          2097.2700          23  ...                                0   \n",
              "3           732.3800          24  ...                                1   \n",
              "4           994.7052          35  ...                                0   \n",
              "\n",
              "   Item_Type_Hard Drinks  Item_Type_Health and Hygiene  Item_Type_Household  \\\n",
              "0                      0                             0                    0   \n",
              "1                      0                             0                    0   \n",
              "2                      0                             0                    0   \n",
              "3                      0                             0                    0   \n",
              "4                      0                             0                    1   \n",
              "\n",
              "   Item_Type_Meat  Item_Type_Others  Item_Type_Seafood  Item_Type_Snack Foods  \\\n",
              "0               0                 0                  0                      0   \n",
              "1               0                 0                  0                      0   \n",
              "2               1                 0                  0                      0   \n",
              "3               0                 0                  0                      0   \n",
              "4               0                 0                  0                      0   \n",
              "\n",
              "   Item_Type_Soft Drinks  Item_Type_Starchy Foods  \n",
              "0                      0                        0  \n",
              "1                      1                        0  \n",
              "2                      0                        0  \n",
              "3                      0                        0  \n",
              "4                      0                        0  \n",
              "\n",
              "[5 rows x 26 columns]"
            ]
          },
          "execution_count": 55,
          "metadata": {},
          "output_type": "execute_result"
        }
      ],
      "source": [
        "# Initialize a LabelEncoder\n",
        "le = LabelEncoder()\n",
        "\n",
        "# List of columns to be encoded\n",
        "col_encode = ['Item_Fat_Content', 'Outlet_Identifier', 'Outlet_Size', 'Outlet_Location_Type', 'Outlet_Type']\n",
        "\n",
        "# Encode the specified columns using LabelEncoder\n",
        "for i in col_encode:\n",
        "    df[i] = le.fit_transform(df[i])\n",
        "\n",
        "# Create a new DataFrame by dropping the 'Item_Identifier' column\n",
        "df_new = df.drop(columns=['Item_Identifier'])\n",
        "\n",
        "# Perform one-hot encoding on the new DataFrame\n",
        "df_new = pd.get_dummies(df_new)\n",
        "\n",
        "# Display the first few rows of the transformed DataFrame\n",
        "df_new.head()\n"
      ]
    },
    {
      "cell_type": "markdown",
      "metadata": {},
      "source": [
        "---"
      ]
    },
    {
      "cell_type": "markdown",
      "metadata": {
        "id": "8nYGV4pON5Dl"
      },
      "source": [
        "## **Split data**\n",
        "\n",
        "![train-test-split.png](data:image/png;base64,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)\n",
        "\n",
        "\n",
        "The data points are divided into two datasets, train and test, in a train test split method. The train data is used to train the model, and the model is then used to predict on the test data to see how the model performs on unseen data and whether it is overfitting or underfitting.\n",
        "\n",
        "<br>"
      ]
    },
    {
      "cell_type": "code",
      "execution_count": 56,
      "metadata": {
        "id": "SFZKOARLmvZH"
      },
      "outputs": [],
      "source": [
        "from sklearn.model_selection import train_test_split\n",
        "\n",
        "# Separate the features (X) and the target variable (y)\n",
        "X = df_new.drop(columns=['Item_Outlet_Sales'])\n",
        "y = df_new['Item_Outlet_Sales']\n",
        "\n",
        "# Split the data into training and testing sets\n",
        "X_train, X_test, y_train, y_test = train_test_split(X, y, test_size=0.2, random_state=22222)\n"
      ]
    },
    {
      "cell_type": "markdown",
      "metadata": {},
      "source": [
        "---"
      ]
    },
    {
      "cell_type": "markdown",
      "metadata": {
        "id": "I0JCbWMgONwd"
      },
      "source": [
        "## **Modelling**"
      ]
    },
    {
      "cell_type": "code",
      "execution_count": 57,
      "metadata": {
        "id": "nU0RQ-Qoh9_1"
      },
      "outputs": [],
      "source": [
        "# Define a list of models\n",
        "models = [\n",
        "    ('lr', LinearRegression()),           # Linear Regression\n",
        "    ('ElasticNet', ElasticNet()),         # Elastic Net Regression\n",
        "    ('RF', RandomForestRegressor()),       # Random Forest Regression\n",
        "    ('ETR', ExtraTreesRegressor()),       # Extra Trees Regression\n",
        "    ('GBM', GradientBoostingRegressor()), # Gradient Boosting Regression\n",
        "    ('MLP', MLPRegressor())               # Multi-layer Perceptron (Neural Network) Regression\n",
        "]\n"
      ]
    },
    {
      "cell_type": "code",
      "execution_count": 58,
      "metadata": {
        "id": "JUBIpa3gjEpI"
      },
      "outputs": [],
      "source": [
        "# Define a function for model selection and cross-validation\n",
        "def model_selection_function(x, y, cross_folds, model):\n",
        "    scores = []  # List to store cross-validation scores\n",
        "    names = []   # List to store model names\n",
        "\n",
        "    # Iterate through the list of model tuples\n",
        "    for i, j in model:\n",
        "        cv_scores = cross_val_score(j, x, y, cv=cross_folds, n_jobs=-1)  # Perform cross-validation\n",
        "        scores.append(cv_scores)  # Store the cross-validation scores\n",
        "        names.append(i)          # Store the model names\n",
        "\n",
        "    # Print the model names and their mean cross-validation scores\n",
        "    for k in range(len(scores)):\n",
        "        print(names[k], scores[k].mean())\n"
      ]
    },
    {
      "cell_type": "code",
      "execution_count": 59,
      "metadata": {
        "colab": {
          "base_uri": "https://localhost:8080/"
        },
        "id": "7vuHLPDfjuQr",
        "outputId": "cbc014c1-5558-4a6c-cfb9-dc943985e649"
      },
      "outputs": [
        {
          "name": "stdout",
          "output_type": "stream",
          "text": [
            "lr 0.4958178267370769\n",
            "ElasticNet 0.47308329416120437\n",
            "RF 0.5506369506161392\n",
            "ETR 0.49725421385589685\n",
            "GBM 0.590383608850568\n",
            "MLP 0.4791630380241734\n"
          ]
        }
      ],
      "source": [
        "# Perform model selection and cross-validation on the training data\n",
        "model_selection_function(X_train, y_train, 3, models)\n"
      ]
    },
    {
      "cell_type": "code",
      "execution_count": 60,
      "metadata": {
        "colab": {
          "base_uri": "https://localhost:8080/"
        },
        "id": "035ypmjrj5xO",
        "outputId": "24ebe25c-a105-4ec1-bd4e-a0f272ad70d8"
      },
      "outputs": [
        {
          "name": "stdout",
          "output_type": "stream",
          "text": [
            "lr 0.49647824576884625\n",
            "ElasticNet 0.47339485984955526\n",
            "RF 0.5552208035367644\n",
            "ETR 0.5063239579605238\n",
            "GBM 0.5909205951502939\n",
            "MLP 0.4969676353053412\n"
          ]
        }
      ],
      "source": [
        "# Perform model selection and cross-validation on the training data\n",
        "model_selection_function(X_train,y_train,5,models)"
      ]
    },
    {
      "cell_type": "markdown",
      "metadata": {
        "id": "ksvip8oh6vrE"
      },
      "source": [
        "### **Multivariate Adaptive Regression Spline**\n",
        "\n",
        "MARS, or Multivariate Adaptive Regression Splines, is a nonlinear regression approach for difficult problems.\n",
        "\n",
        "The approach includes identifying a set of basic linear functions that, when combined, produce the best predicted performance. MARS is thus a type of ensemble of simple linear functions that can perform well on difficult regression problems with many input variables and complex non-linear interactions.\n",
        "The MARS algorithm works by identifying a series of simple piecewise linear functions that characterise the data and combining them to make a forecast. In other ways, the model is a collection of linear functions."
      ]
    },
    {
      "cell_type": "code",
      "execution_count": null,
      "metadata": {
        "id": "HTWT3LvdkXn8"
      },
      "outputs": [],
      "source": [
        "#Pyearth --> MARS --> Spline Regression\n",
        "!pip install git+https://github.com/scikit-learn-contrib/py-earth@v0.2dev --quiet"
      ]
    },
    {
      "cell_type": "code",
      "execution_count": 63,
      "metadata": {
        "id": "5aZ4kJNOlMJ3"
      },
      "outputs": [],
      "source": [
        "# Import the Earth regression model from pyearth library\n",
        "from pyearth import Earth\n",
        "\n",
        "# Initialize an Earth regression model with specified parameters\n",
        "model = Earth(max_degree=5, endspan=20)\n",
        "\n",
        "# Perform cross-validation on the training data using the Earth model\n",
        "scores = cross_val_score(model, X_train, y_train, cv=5, n_jobs=-1)\n"
      ]
    },
    {
      "cell_type": "code",
      "execution_count": 64,
      "metadata": {
        "id": "9cy9SYM3lsLi"
      },
      "outputs": [
        {
          "data": {
            "text/plain": [
              "array([0.60280134, 0.61560418, 0.58055522, 0.59529722, 0.58615293])"
            ]
          },
          "execution_count": 64,
          "metadata": {},
          "output_type": "execute_result"
        }
      ],
      "source": [
        "scores"
      ]
    },
    {
      "cell_type": "code",
      "execution_count": 65,
      "metadata": {
        "id": "CkVfQon1l3Xz"
      },
      "outputs": [
        {
          "data": {
            "text/plain": [
              "0.5960821785309107"
            ]
          },
          "execution_count": 65,
          "metadata": {},
          "output_type": "execute_result"
        }
      ],
      "source": [
        "scores.mean()"
      ]
    },
    {
      "cell_type": "code",
      "execution_count": 66,
      "metadata": {
        "colab": {
          "base_uri": "https://localhost:8080/"
        },
        "id": "KRBwFNXGl5fM",
        "outputId": "0e5ef1c7-572b-4eac-a342-98cbec344805"
      },
      "outputs": [
        {
          "data": {
            "text/plain": [
              "0.5548232410168323"
            ]
          },
          "execution_count": 66,
          "metadata": {},
          "output_type": "execute_result"
        }
      ],
      "source": [
        "from sklearn.preprocessing import PolynomialFeatures,SplineTransformer\n",
        "from sklearn.pipeline import make_pipeline\n",
        "\n",
        "# Create a pipeline with a SplineTransformer and LinearRegression\n",
        "spline_model = make_pipeline(SplineTransformer(n_knots=3, degree=5), LinearRegression())\n",
        "\n",
        "# Perform cross-validation on the training data using the spline model\n",
        "scores = cross_val_score(spline_model, X_train, y_train, cv=5, n_jobs=-1)\n",
        "\n",
        "# Calculate the mean of the cross-validation scores\n",
        "mean_score = scores.mean()\n"
      ]
    },
    {
      "cell_type": "markdown",
      "metadata": {
        "id": "Lm-ZhsqR5dEX"
      },
      "source": [
        "### **Generalized Additive Models**\n",
        "\n",
        "GAMs (Generalised Additive Models) are an adaptation that allows us to model non-linear data while keeping it explainable. A GAM is a linear model that differs from Generalised Linear Models such as Linear Regression. Non-linear features can be learned by a GAM. GAMs disregard the requirement that the relationship be a simple weighted sum and instead assume that the outcome can be represented by a sum of arbitrary functions of each feature.\n",
        "\n",
        "It is quite similar to the regression model formula, however instead of using BiXi (simple weighted sum), it utilises f1(X1) (flexible function). It is still, at its foundation, the sum of feature effects. Instead of modelling all relationships, we can select particular features to model relationships because they also support the linear effect.\n",
        "\n",
        "Splines are learning functions that can be used to learn any function. The feature functions are constructed using penalised B splines, which allow us to automatically model non-linear connections without having to manually experiment with numerous transformations on each variable. GAMs are generalised linear models that allow non-linear features functions while retaining additivity. Because the model is additive, it is simple to investigate the effect of each X i on Y while maintaining all other predictors constant.\n",
        "\n",
        "Read the [pyGAM documentation](https://pygam.readthedocs.io/en/latest/notebooks/tour_of_pygam.html) to know more.\n",
        "\n"
      ]
    },
    {
      "cell_type": "code",
      "execution_count": null,
      "metadata": {
        "id": "7ywQ9Nj7mcLQ"
      },
      "outputs": [],
      "source": [
        "### GAM ####\n",
        "# Generalized Additive Model\n",
        "\n",
        "!pip install pygam --quiet"
      ]
    },
    {
      "cell_type": "code",
      "execution_count": 70,
      "metadata": {
        "id": "IC0370MKmxEd"
      },
      "outputs": [
        {
          "name": "stderr",
          "output_type": "stream",
          "text": [
            "  0% (0 of 11) |                         | Elapsed Time: 0:00:00 ETA:  --:--:--\n",
            "  9% (1 of 11) |##                       | Elapsed Time: 0:00:50 ETA:   0:08:25\n"
          ]
        },
        {
          "name": "stdout",
          "output_type": "stream",
          "text": [
            "did not converge\n"
          ]
        },
        {
          "name": "stderr",
          "output_type": "stream",
          "text": [
            " 18% (2 of 11) |####                     | Elapsed Time: 0:01:58 ETA:   0:10:06\n"
          ]
        },
        {
          "name": "stdout",
          "output_type": "stream",
          "text": [
            "did not converge\n"
          ]
        },
        {
          "name": "stderr",
          "output_type": "stream",
          "text": [
            " 27% (3 of 11) |######                   | Elapsed Time: 0:03:06 ETA:   0:09:04\n"
          ]
        },
        {
          "name": "stdout",
          "output_type": "stream",
          "text": [
            "did not converge\n"
          ]
        },
        {
          "name": "stderr",
          "output_type": "stream",
          "text": [
            " 36% (4 of 11) |#########                | Elapsed Time: 0:04:09 ETA:   0:07:26\n"
          ]
        },
        {
          "name": "stdout",
          "output_type": "stream",
          "text": [
            "did not converge\n"
          ]
        },
        {
          "name": "stderr",
          "output_type": "stream",
          "text": [
            " 45% (5 of 11) |###########              | Elapsed Time: 0:05:21 ETA:   0:07:12\n"
          ]
        },
        {
          "name": "stdout",
          "output_type": "stream",
          "text": [
            "did not converge\n"
          ]
        },
        {
          "name": "stderr",
          "output_type": "stream",
          "text": [
            " 54% (6 of 11) |#############            | Elapsed Time: 0:06:40 ETA:   0:06:34\n"
          ]
        },
        {
          "name": "stdout",
          "output_type": "stream",
          "text": [
            "did not converge\n"
          ]
        },
        {
          "name": "stderr",
          "output_type": "stream",
          "text": [
            " 63% (7 of 11) |###############          | Elapsed Time: 0:08:07 ETA:   0:05:46\n"
          ]
        },
        {
          "name": "stdout",
          "output_type": "stream",
          "text": [
            "did not converge\n"
          ]
        },
        {
          "name": "stderr",
          "output_type": "stream",
          "text": [
            " 72% (8 of 11) |##################       | Elapsed Time: 0:09:38 ETA:   0:04:32\n"
          ]
        },
        {
          "name": "stdout",
          "output_type": "stream",
          "text": [
            "did not converge\n"
          ]
        },
        {
          "name": "stderr",
          "output_type": "stream",
          "text": [
            " 81% (9 of 11) |####################     | Elapsed Time: 0:10:50 ETA:   0:02:24\n"
          ]
        },
        {
          "name": "stdout",
          "output_type": "stream",
          "text": [
            "did not converge\n"
          ]
        },
        {
          "name": "stderr",
          "output_type": "stream",
          "text": [
            " 90% (10 of 11) |#####################   | Elapsed Time: 0:12:18 ETA:   0:01:28\n"
          ]
        },
        {
          "name": "stdout",
          "output_type": "stream",
          "text": [
            "did not converge\n"
          ]
        },
        {
          "name": "stderr",
          "output_type": "stream",
          "text": [
            "100% (11 of 11) |########################| Elapsed Time: 0:13:52 Time:  0:13:52\n"
          ]
        },
        {
          "name": "stdout",
          "output_type": "stream",
          "text": [
            "did not converge\n",
            "PoissonGAM                                                                                                \n",
            "=============================================== ==========================================================\n",
            "Distribution:                       PoissonDist Effective DoF:                                      82.995\n",
            "Link Function:                          LogLink Log Likelihood:                              -1437333.0893\n",
            "Number of Samples:                         6815 AIC:                                          2874832.1687\n",
            "                                                AICc:                                         2874834.2903\n",
            "                                                UBRE:                                             414.7187\n",
            "                                                Scale:                                                 1.0\n",
            "                                                Pseudo R-Squared:                                   0.6814\n",
            "==========================================================================================================\n",
            "Feature Function                  Lambda               Rank         EDoF         P > x        Sig. Code   \n",
            "================================= ==================== ============ ============ ============ ============\n",
            "s(0)                              [0.004]              20           20.0         0.00e+00     ***         \n",
            "s(1)                              [0.004]              20           1.1          0.00e+00     ***         \n",
            "s(2)                              [0.004]              20           19.0         0.00e+00     ***         \n",
            "s(3)                              [0.004]              20           18.9         0.00e+00     ***         \n",
            "s(4)                              [0.004]              20           9.0          0.00e+00     ***         \n",
            "s(5)                              [0.004]              20           0.0          0.00e+00     ***         \n",
            "s(6)                              [0.004]              20           0.0          0.00e+00     ***         \n",
            "s(7)                              [0.004]              20           0.1          0.00e+00     ***         \n",
            "s(8)                              [0.004]              20           0.1          0.00e+00     ***         \n",
            "s(9)                              [0.004]              20           1.0          0.00e+00     ***         \n",
            "s(10)                             [0.004]              20           1.0          0.00e+00     ***         \n",
            "s(11)                             [0.004]              20           1.0          0.00e+00     ***         \n",
            "s(12)                             [0.004]              20           1.0          0.00e+00     ***         \n",
            "s(13)                             [0.004]              20           1.0          0.00e+00     ***         \n",
            "s(14)                             [0.004]              20           1.0          0.00e+00     ***         \n",
            "s(15)                             [0.004]              20           1.0          0.00e+00     ***         \n",
            "s(16)                             [0.004]              20           1.0          0.00e+00     ***         \n",
            "s(17)                             [0.004]              20           1.0          0.00e+00     ***         \n",
            "s(18)                             [0.004]              20           1.0          0.00e+00     ***         \n",
            "s(19)                             [0.004]              20           1.0          0.00e+00     ***         \n",
            "s(20)                             [0.004]              20           1.0          0.00e+00     ***         \n",
            "s(21)                             [0.004]              20           0.9          0.00e+00     ***         \n",
            "s(22)                             [0.004]              20           1.0          0.00e+00     ***         \n",
            "s(23)                             [0.004]              20           0.9          0.00e+00     ***         \n",
            "s(24)                             [0.004]              20           0.0          0.00e+00     ***         \n",
            "intercept                                              1            0.0          0.00e+00     ***         \n",
            "==========================================================================================================\n",
            "Significance codes:  0 '***' 0.001 '**' 0.01 '*' 0.05 '.' 0.1 ' ' 1\n",
            "\n",
            "WARNING: Fitting splines and a linear function to a feature introduces a model identifiability problem\n",
            "         which can cause p-values to appear significant when they are not.\n",
            "\n",
            "WARNING: p-values calculated in this manner behave correctly for un-penalized models or models with\n",
            "         known smoothing parameters, but when smoothing parameters have been estimated, the p-values\n",
            "         are typically lower than they should be, meaning that the tests reject the null too readily.\n"
          ]
        }
      ],
      "source": [
        "# Import necessary classes from the pygam library\n",
        "from pygam import PoissonGAM\n",
        "\n",
        "# Initialize a Poisson Generalized Additive Model (GAM) and perform a grid search\n",
        "gam = PoissonGAM().gridsearch(X_train.values, y_train)\n",
        "\n",
        "# Print a summary of the model\n",
        "gam.summary()\n"
      ]
    },
    {
      "cell_type": "markdown",
      "metadata": {},
      "source": [
        "#### Approach\n",
        "\n",
        "1) Use existing set to do predictions on test set and see the results and then decide further --> other stuff like model blending, stacking and generalization\n",
        "\n",
        "2) Model blending, stacking --> Testing on test data"
      ]
    },
    {
      "cell_type": "markdown",
      "metadata": {},
      "source": [
        "---"
      ]
    },
    {
      "cell_type": "markdown",
      "metadata": {
        "id": "V7ZSroT2E5Cm"
      },
      "source": [
        "### **Model Ensembling Starts Here**"
      ]
    },
    {
      "cell_type": "markdown",
      "metadata": {
        "id": "0estXX7A5k1J"
      },
      "source": [
        "### **Voting Regressor**\n",
        "\n",
        "A voting regressor is an ensemble meta-estimator that fits several base regressors, each on the whole dataset. Then it averages the individual predictions to form a final prediction."
      ]
    },
    {
      "cell_type": "code",
      "execution_count": 73,
      "metadata": {
        "id": "PKK0dcEGVk7E"
      },
      "outputs": [],
      "source": [
        "# Creates averages of model predictions\n",
        "\n",
        "# Import necessary classes from scikit-learn for creating a voting ensemble of regressors\n",
        "from sklearn.ensemble import VotingRegressor\n",
        "\n",
        "# Initialize individual regression models\n",
        "reg1 = LinearRegression()\n",
        "reg2 = GradientBoostingRegressor()\n",
        "reg3 = MLPRegressor()\n",
        "\n",
        "# Create a Voting Regressor ensemble with specified estimators\n",
        "voting_regress = VotingRegressor(estimators=[('LR', reg1), ('GBM', reg2), ('MLP', reg3)])\n",
        "\n",
        "# Perform cross-validation on the training data using the voting ensemble\n",
        "scores = cross_val_score(voting_regress, X_train, y_train, cv=3)\n"
      ]
    },
    {
      "cell_type": "code",
      "execution_count": 74,
      "metadata": {
        "colab": {
          "base_uri": "https://localhost:8080/"
        },
        "id": "0pvLD_NQXSTh",
        "outputId": "7aa72ff5-feb7-4cab-dc89-ac2e71088460"
      },
      "outputs": [
        {
          "name": "stdout",
          "output_type": "stream",
          "text": [
            "[0.56137098 0.52676572 0.56467648]\n",
            "0.5509377247712267\n"
          ]
        }
      ],
      "source": [
        "print(scores)\n",
        "print(scores.mean())"
      ]
    },
    {
      "cell_type": "markdown",
      "metadata": {
        "id": "ZLOve2OL6Hut"
      },
      "source": [
        "### **Model Stacking**\n",
        "\n",
        "\n",
        "\n",
        "Stacking, also known as Stacked Generalization, is a machine learning ensemble algorithm.\n",
        "\n",
        "It use a meta-learning algorithm to find the optimum way to combine predictions from two or more base machine learning methods.\n",
        "\n",
        "The advantage of stacking is that it can combine the capabilities of several high-performing models on a classification or regression job to create predictions that outperform any single model in the ensemble.\n",
        "\n",
        "Unlike bagging, the models in stacking are often distinct (e.g., not all decision trees) and fit to the same dataset (e.g. instead of samples of the training dataset).\n",
        "In contrast to boosting, a single model is utilised in stacking to learn how to optimally combine the predictions from the contributing models (e.g. instead of a sequence of models that correct the predictions of prior models).\n",
        "A stacking model's architecture consists of two or more base models, also known as level-0 models, and a meta-model that aggregates the predictions of the base models, known as a level-1 model.\n",
        "\n",
        "* Level-0 Models (Base-Models): These are models that are fitted to the training data and whose predictions are compiled.\n",
        "* Level-1 Model (Meta-Model): Learns the optimum way to combine the predictions of the base models.\n",
        "The meta-model is trained using out-of-sample data predictions given by base models.\n",
        "\n",
        "In the case of regression, the outputs of the base models used as input to the meta-model can be real values, probability values, probability like values, or class labels.\n",
        "\n",
        "The most popular method for producing the training dataset for the meta-model is k-fold cross-validation of the base models, with the out-of-fold predictions serving as the foundation for the meta-model training dataset."
      ]
    },
    {
      "cell_type": "code",
      "execution_count": 75,
      "metadata": {
        "id": "noYCBY7wYYl8"
      },
      "outputs": [],
      "source": [
        "# Initialize a Linear Regression model\n",
        "reg1 = LinearRegression()\n",
        "\n",
        "# Initialize a Gradient Boosting Regressor model\n",
        "reg2 = GradientBoostingRegressor()\n",
        "\n",
        "# Create a list of model tuples for potential estimators in an ensemble\n",
        "estimators = [('LR', reg1), ('GBM', reg2)]\n"
      ]
    },
    {
      "cell_type": "code",
      "execution_count": 76,
      "metadata": {
        "id": "dA2ENo5f6jmT"
      },
      "outputs": [],
      "source": [
        "# Import necessary classes from scikit-learn for creating a Stacking Regressor ensemble\n",
        "from sklearn.ensemble import StackingRegressor\n",
        "\n",
        "# Initialize a level 1 estimator, which is MLPRegressor in this case\n",
        "level_1_estimator = MLPRegressor()\n",
        "\n",
        "# Create a Stacking Regressor ensemble with specified base estimators (estimators) and a final estimator (level_1_estimator)\n",
        "stacking_model = StackingRegressor(estimators=estimators, final_estimator=level_1_estimator)\n"
      ]
    },
    {
      "cell_type": "code",
      "execution_count": 77,
      "metadata": {
        "id": "c7HoDJXW66Uk"
      },
      "outputs": [],
      "source": [
        "# Perform cross-validation on the training data using the stacking ensemble model\n",
        "scores = cross_val_score(stacking_model, X_train, y_train, cv=3)\n"
      ]
    },
    {
      "cell_type": "code",
      "execution_count": 78,
      "metadata": {
        "colab": {
          "base_uri": "https://localhost:8080/"
        },
        "id": "egNEYxln7GGu",
        "outputId": "2a8c450d-9c2e-466e-dded-dcb2913e3cbe"
      },
      "outputs": [
        {
          "data": {
            "text/plain": [
              "array([0.60736875, 0.56728888, 0.59899729])"
            ]
          },
          "execution_count": 78,
          "metadata": {},
          "output_type": "execute_result"
        }
      ],
      "source": [
        "scores"
      ]
    },
    {
      "cell_type": "markdown",
      "metadata": {
        "id": "QY3oUQUd7jV-"
      },
      "source": [
        "### **Model Blending**\n",
        "\n",
        "Blending is an ensemble machine learning technique that employs a machine learning model to learn how to effectively integrate predictions from different ensemble member models. Blending is an extension of Stacking Generalization. The sole distinction is that in Blending, the k-fold cross validation procedure is not used to construct the meta-training model's data. Blending uses a \"one-holdout set,\" or a small subset of the training data (validation) to make predictions that will be \"stacked\" to form the meta-training model's data. Predictions are also built from the test data to create the meta-model test data."
      ]
    },
    {
      "cell_type": "code",
      "execution_count": 79,
      "metadata": {
        "id": "oO3-5JAZ7N-g"
      },
      "outputs": [],
      "source": [
        "# Import necessary functions and libraries\n",
        "from numpy import hstack\n",
        "from sklearn.model_selection import train_test_split\n",
        "from sklearn.linear_model import LinearRegression\n",
        "from sklearn.ensemble import GradientBoostingRegressor\n",
        "from sklearn.neural_network import MLPRegressor\n",
        "\n",
        "# Split the training data into a validation set\n",
        "X_train_1, X_val, y_train_1, y_val = train_test_split(X_train, y_train, test_size=0.1, random_state=2222)\n",
        "\n",
        "# Define a function to create and return a list of models\n",
        "def list_models():\n",
        "    models = []\n",
        "    models.append(('LR', LinearRegression()))\n",
        "    models.append(('GBR', GradientBoostingRegressor()))\n",
        "    return models\n",
        "\n",
        "# Define a function to fit all models and a meta-estimator\n",
        "def fit_all_models(models, X_train, X_val, y_train, y_val):\n",
        "    level_1_feat = []\n",
        "\n",
        "    # Loop through the list of models\n",
        "    for name, model in models:\n",
        "        model.fit(X_train, y_train)\n",
        "        y_hat = model.predict(X_val)\n",
        "        y_hat = y_hat.reshape(len(y_hat), 1)\n",
        "        level_1_feat.append(y_hat)\n",
        "\n",
        "    # Combine the predictions from base models\n",
        "    level_1_feat = hstack(level_1_feat)\n",
        "\n",
        "    # Initialize and train the meta-estimator\n",
        "    level_1_estimator = MLPRegressor()\n",
        "    level_1_estimator.fit(level_1_feat, y_val)\n",
        "\n",
        "    return level_1_estimator\n",
        "\n",
        "# Define a function to make predictions using base models and the meta-estimator\n",
        "def pred_data(models, blends, X_test):\n",
        "    meta_model_X = []\n",
        "\n",
        "    # Loop through the list of models\n",
        "    for name, model in models:\n",
        "        y_hat = model.predict(X_test)\n",
        "        y_hat = y_hat.reshape(len(y_hat), 1)\n",
        "        meta_model_X.append(y_hat)\n",
        "\n",
        "    # Combine the predictions from base models for the test data\n",
        "    meta_model_X = hstack(meta_model_X)\n",
        "\n",
        "    # Make predictions using the meta-estimator\n",
        "    return blends.predict(meta_model_X)\n",
        "\n",
        "# Get the list of models\n",
        "models = list_models()\n",
        "\n",
        "# Fit all models and the meta-estimator on the validation set\n",
        "model_blender = fit_all_models(models, X_train_1, X_val, y_train_1, y_val)\n",
        "\n",
        "# Make predictions using base models and the meta-estimator on the training data\n",
        "y_hat = pred_data(models, model_blender, X_train)\n"
      ]
    },
    {
      "cell_type": "markdown",
      "metadata": {},
      "source": [
        "---"
      ]
    },
    {
      "cell_type": "markdown",
      "metadata": {
        "id": "gYjTixuM6o9j"
      },
      "source": [
        "## **Model Evaluation**"
      ]
    },
    {
      "cell_type": "code",
      "execution_count": 80,
      "metadata": {
        "colab": {
          "base_uri": "https://localhost:8080/"
        },
        "id": "xocmltglAaMp",
        "outputId": "9bba6d7e-cb8c-4317-a834-b07a394c05b2"
      },
      "outputs": [
        {
          "data": {
            "text/plain": [
              "0.630582189355684"
            ]
          },
          "execution_count": 80,
          "metadata": {},
          "output_type": "execute_result"
        }
      ],
      "source": [
        "from sklearn.metrics import r2_score\n",
        "\n",
        "r2_score(y_train,y_hat)"
      ]
    },
    {
      "cell_type": "code",
      "execution_count": 81,
      "metadata": {
        "id": "FRnDd_2y-zZE"
      },
      "outputs": [],
      "source": [
        "scores=cross_val_score(model_blender,X_train,y_train,cv=3)"
      ]
    },
    {
      "cell_type": "code",
      "execution_count": 82,
      "metadata": {
        "colab": {
          "base_uri": "https://localhost:8080/"
        },
        "id": "G7-rYb2L-9RY",
        "outputId": "de464772-6fbd-4eb0-c6d2-bf0e25106ac5"
      },
      "outputs": [
        {
          "data": {
            "text/plain": [
              "array([0.4720012 , 0.45556442, 0.47941797])"
            ]
          },
          "execution_count": 82,
          "metadata": {},
          "output_type": "execute_result"
        }
      ],
      "source": [
        "scores"
      ]
    },
    {
      "cell_type": "code",
      "execution_count": 84,
      "metadata": {
        "colab": {
          "base_uri": "https://localhost:8080/"
        },
        "id": "yd_TwuSGBJqs",
        "outputId": "abd75abb-154e-4c1a-c238-626b4bf64b17"
      },
      "outputs": [
        {
          "name": "stdout",
          "output_type": "stream",
          "text": [
            "R2 of Blending is\n",
            "0.6069217439513899\n",
            "R2 of Stacking is\n",
            "0.6103823798402186\n",
            "R2 of GBM is\n",
            "0.6098375340559932\n"
          ]
        }
      ],
      "source": [
        "# Use the pred_data function to make predictions on the test data using the blending model\n",
        "y_pred = pred_data(models, model_blender, X_test)\n",
        "\n",
        "# Calculate and print the R2 score for the blending model\n",
        "print(\"R2 of Blending is\")\n",
        "print(r2_score(y_test, y_pred))\n",
        "\n",
        "# Fit and predict with the stacking model\n",
        "model_stack = stacking_model.fit(X_train, y_train)\n",
        "y_pred = model_stack.predict(X_test)\n",
        "\n",
        "# Calculate and print the R2 score for the stacking model\n",
        "print(\"R2 of Stacking is\")\n",
        "print(r2_score(y_test, y_pred))\n",
        "\n",
        "# Fit and predict with the Gradient Boosting Regressor (GBM) model\n",
        "model_gbm = GradientBoostingRegressor()\n",
        "model_gbm.fit(X_train, y_train)\n",
        "y_pred = model_gbm.predict(X_test)\n",
        "\n",
        "# Calculate and print the R2 score for the GBM model\n",
        "print(\"R2 of GBM is\")\n",
        "print(r2_score(y_test, y_pred))\n"
      ]
    },
    {
      "cell_type": "code",
      "execution_count": 85,
      "metadata": {
        "colab": {
          "base_uri": "https://localhost:8080/"
        },
        "id": "pHMLzS6CCa5o",
        "outputId": "be524299-4d92-4594-a12c-9e1966668fd5"
      },
      "outputs": [
        {
          "name": "stderr",
          "output_type": "stream",
          "text": [
            "  0% (0 of 11) |                         | Elapsed Time: 0:00:00 ETA:  --:--:--\n",
            "  9% (1 of 11) |##                       | Elapsed Time: 0:00:09 ETA:   0:01:34\n"
          ]
        },
        {
          "name": "stdout",
          "output_type": "stream",
          "text": [
            "did not converge\n"
          ]
        },
        {
          "name": "stderr",
          "output_type": "stream",
          "text": [
            " 18% (2 of 11) |####                     | Elapsed Time: 0:00:17 ETA:   0:01:15\n"
          ]
        },
        {
          "name": "stdout",
          "output_type": "stream",
          "text": [
            "did not converge\n"
          ]
        },
        {
          "name": "stderr",
          "output_type": "stream",
          "text": [
            " 27% (3 of 11) |######                   | Elapsed Time: 0:00:26 ETA:   0:01:07\n"
          ]
        },
        {
          "name": "stdout",
          "output_type": "stream",
          "text": [
            "did not converge\n"
          ]
        },
        {
          "name": "stderr",
          "output_type": "stream",
          "text": [
            " 36% (4 of 11) |#########                | Elapsed Time: 0:00:34 ETA:   0:00:58\n"
          ]
        },
        {
          "name": "stdout",
          "output_type": "stream",
          "text": [
            "did not converge\n"
          ]
        },
        {
          "name": "stderr",
          "output_type": "stream",
          "text": [
            " 45% (5 of 11) |###########              | Elapsed Time: 0:00:43 ETA:   0:00:51\n"
          ]
        },
        {
          "name": "stdout",
          "output_type": "stream",
          "text": [
            "did not converge\n"
          ]
        },
        {
          "name": "stderr",
          "output_type": "stream",
          "text": [
            " 54% (6 of 11) |#############            | Elapsed Time: 0:00:51 ETA:   0:00:42\n"
          ]
        },
        {
          "name": "stdout",
          "output_type": "stream",
          "text": [
            "did not converge\n"
          ]
        },
        {
          "name": "stderr",
          "output_type": "stream",
          "text": [
            " 63% (7 of 11) |###############          | Elapsed Time: 0:01:00 ETA:   0:00:34\n"
          ]
        },
        {
          "name": "stdout",
          "output_type": "stream",
          "text": [
            "did not converge\n"
          ]
        },
        {
          "name": "stderr",
          "output_type": "stream",
          "text": [
            " 72% (8 of 11) |##################       | Elapsed Time: 0:01:09 ETA:   0:00:27\n"
          ]
        },
        {
          "name": "stdout",
          "output_type": "stream",
          "text": [
            "did not converge\n"
          ]
        },
        {
          "name": "stderr",
          "output_type": "stream",
          "text": [
            " 81% (9 of 11) |####################     | Elapsed Time: 0:01:18 ETA:   0:00:18\n"
          ]
        },
        {
          "name": "stdout",
          "output_type": "stream",
          "text": [
            "did not converge\n"
          ]
        },
        {
          "name": "stderr",
          "output_type": "stream",
          "text": [
            " 90% (10 of 11) |#####################   | Elapsed Time: 0:01:31 ETA:   0:00:12\n"
          ]
        },
        {
          "name": "stdout",
          "output_type": "stream",
          "text": [
            "did not converge\n"
          ]
        },
        {
          "name": "stderr",
          "output_type": "stream",
          "text": [
            "100% (11 of 11) |########################| Elapsed Time: 0:01:44 Time:  0:01:44\n"
          ]
        },
        {
          "name": "stdout",
          "output_type": "stream",
          "text": [
            "did not converge\n",
            "0.6119679799388373\n"
          ]
        }
      ],
      "source": [
        "# Install the pygam library if not already installed\n",
        "# !pip install pygam\n",
        "\n",
        "# Import necessary classes from the pygam library\n",
        "from pygam import PoissonGAM\n",
        "\n",
        "# Initialize a Poisson Generalized Additive Model (GAM) with 5 splines and perform a grid search\n",
        "gam = PoissonGAM(n_splines=5).gridsearch(X_train.values, y_train)\n",
        "\n",
        "# Make predictions using the trained Poisson GAM on the test data\n",
        "y_pred = gam.predict(X_test.values)\n",
        "\n",
        "# Calculate and print the R2 score to evaluate the model's performance\n",
        "print(r2_score(y_test, y_pred))\n"
      ]
    },
    {
      "cell_type": "code",
      "execution_count": 86,
      "metadata": {
        "id": "vU6EtHXNDl-d"
      },
      "outputs": [],
      "source": [
        "# Initialize a Gradient Boosting Regressor (GBM) model\n",
        "model_gbm = GradientBoostingRegressor()\n",
        "\n",
        "# Perform cross-validation on the dataset using the GBM model\n",
        "scores = cross_val_score(model_gbm, X, y, cv=5)\n"
      ]
    },
    {
      "cell_type": "code",
      "execution_count": 87,
      "metadata": {
        "colab": {
          "base_uri": "https://localhost:8080/"
        },
        "id": "MQOpc_-8MNo6",
        "outputId": "cca6d533-a486-4502-e185-4c7b1e626764"
      },
      "outputs": [
        {
          "data": {
            "text/plain": [
              "0.5934706099465524"
            ]
          },
          "execution_count": 87,
          "metadata": {},
          "output_type": "execute_result"
        }
      ],
      "source": [
        "scores.mean()"
      ]
    },
    {
      "cell_type": "code",
      "execution_count": 88,
      "metadata": {
        "colab": {
          "base_uri": "https://localhost:8080/"
        },
        "id": "aoErLqGxMQmT",
        "outputId": "e7f4490b-4268-40d7-fb14-b26411910e21"
      },
      "outputs": [
        {
          "data": {
            "text/plain": [
              "<function ndarray.mean>"
            ]
          },
          "execution_count": 88,
          "metadata": {},
          "output_type": "execute_result"
        }
      ],
      "source": [
        "# Perform cross-validation on the entire dataset using the stacking model\n",
        "scores = cross_val_score(stacking_model, X, y, cv=3)\n",
        "\n",
        "# Calculate and print the mean of the cross-validation scores\n",
        "mean_score = scores.mean()\n"
      ]
    },
    {
      "cell_type": "code",
      "execution_count": null,
      "metadata": {
        "id": "BBCSBTpINi64"
      },
      "outputs": [],
      "source": [
        "'''\n",
        "TO DO:\n",
        "\n",
        "1) Save all encoders and models\n",
        "2) Dagster - > DAG's\n",
        "3) Data Validation tests\n",
        "4) Missing Data - Fill it\n",
        "5) Prediciton\n",
        "6) Dumping results back to database\n",
        "7) Deploying \n",
        "\n",
        "'''"
      ]
    },
    {
      "cell_type": "markdown",
      "metadata": {
        "id": "_WeoCOEN6Ov-"
      },
      "source": [
        "## **Conclusion**\n",
        "\n",
        "- In this project, we constructed and tested various predictive models to determine the sales of each product in a specific retailer. Using Chi-squared, Cramer's v tests, and ANOVA, we investigated data processing strategies, exploratory data analysis, and category correlation. \n",
        "\n",
        "- We learnt how to develop cutting-edge machine-learning models like Gradient Boosting and Generalized Additive Models in addition to basic statistical models like Linear Regression. \n",
        "\n",
        "- We explored splines and multivariate adaptive regression splines (MARS), as well as ensemble strategies such as model stacking and model blending, and compared their performance.\n",
        " "
      ]
    },
    {
      "cell_type": "markdown",
      "metadata": {},
      "source": [
        "---"
      ]
    },
    {
      "cell_type": "markdown",
      "metadata": {},
      "source": []
    }
  ],
  "metadata": {
    "colab": {
      "provenance": []
    },
    "kernelspec": {
      "display_name": "bigmartenv",
      "language": "python",
      "name": "python3"
    },
    "language_info": {
      "codemirror_mode": {
        "name": "ipython",
        "version": 3
      },
      "file_extension": ".py",
      "mimetype": "text/x-python",
      "name": "python",
      "nbconvert_exporter": "python",
      "pygments_lexer": "ipython3",
      "version": "3.8.10 (tags/v3.8.10:3d8993a, May  3 2021, 11:48:03) [MSC v.1928 64 bit (AMD64)]"
    },
    "vscode": {
      "interpreter": {
        "hash": "29569de4b0cb234a08db4431484de461d1c52b46f738eb1a690433eddadce917"
      }
    }
  },
  "nbformat": 4,
  "nbformat_minor": 0
}
